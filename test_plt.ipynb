{
 "cells": [
  {
   "cell_type": "code",
   "execution_count": 5,
   "id": "ac9a07b7",
   "metadata": {},
   "outputs": [
    {
     "data": {
      "image/png": "[encoded data removed]",
      "text/plain": [
       "<Figure size 640x480 with 1 Axes>"
      ]
     },
     "metadata": {},
     "output_type": "display_data"
    }
   ],
   "source": [
    "import os\n",
    "os.environ[\"KMP_DUPLICATE_LIB_OK\"]=\"TRUE\"\n",
    "import torch\n",
    "\n",
    "import matplotlib.pyplot as plt\n",
    "plt.plot([1])\n",
    "plt.show()"
   ]
  },
  {
   "cell_type": "code",
   "execution_count": 4,
   "id": "cf2fa408",
   "metadata": {},
   "outputs": [
    {
     "data": {
      "image/png": "[encoded data removed]",
      "text/plain": [
       "<Figure size 640x480 with 1 Axes>"
      ]
     },
     "metadata": {},
     "output_type": "display_data"
    }
   ],
   "source": [
    "plt.plot([1])\n",
    "plt.show()"
   ]
  },
  {
   "cell_type": "code",
   "execution_count": 3,
   "id": "15bbcb68",
   "metadata": {},
   "outputs": [],
   "source": [
    "alphabet_dict = {\"p\": 0, \"-\": 1, \"A\": 2, \"C\": 3, \"G\": 4, \"T\": 5}\n",
    "lab2onehot =  lambda seq: torch.eye(len(alphabet_dict))[seq]\n",
    "seq2lab = lambda seq: torch.tensor([alphabet_dict[i] for i in seq])"
   ]
  },
  {
   "cell_type": "code",
   "execution_count": 4,
   "id": "f67ff16c",
   "metadata": {},
   "outputs": [],
   "source": [
    "def label(seqs, alphabet_dict):\n",
    "    assert any(seqs), \"empty sequence input\"\n",
    "    assert any([len(seq) != len(seq[0]) for seq in seqs])\n",
    "    encoded_seqs = torch.ones((len(seqs), len(seqs[0])))\n",
    "    for i,seq in enumerate(seqs):\n",
    "        encoded_seq = torch.tensor([alphabet_dict[a] for a in seq])\n",
    "        encoded_seqs[i,:] = encoded_seq\n",
    "    return encoded_seqs\n",
    "\n",
    "def onehot(seqs, alphabet_dict):\n",
    "    assert any(seqs), \"empty sequence input\"\n",
    "    assert any([len(seq) != len(seq[0]) for seq in seqs])\n",
    "    encoded_seqs = torch.ones((len(seqs), len(seqs[0]), len(alphabet_dict)))\n",
    "    for i,seq in enumerate(seqs):\n",
    "        encoded_seq = seq2lab(seq)\n",
    "        encoded_seq_onehot = lab2onehot(encoded_seq)\n",
    "        encoded_seqs[i,:,:] = encoded_seq_onehot\n",
    "    return encoded_seqs\n",
    "\n",
    "def calculate_prob_matrix(seqs, alphabet_dict):    \n",
    "    onehot_vect = onehot(seqs, alphabet_dict)\n",
    "    return (onehot_vect.sum(dim=0).T / onehot_vect.sum(dim=[0,2])).T"
   ]
  },
  {
   "cell_type": "code",
   "execution_count": 5,
   "id": "1e7eae9d",
   "metadata": {},
   "outputs": [],
   "source": [
    "class Autoencoder(nn.Module):\n",
    "    def __init__(self, num_channels):\n",
    "        super(Autoencoder, self).__init__()\n",
    "\n",
    "        # Encoder\n",
    "        self.encoder = nn.Sequential(\n",
    "            nn.Conv1d(num_channels, 32, kernel_size=3, stride=1, padding=1),\n",
    "            nn.ReLU(),\n",
    "            nn.Conv1d(32, 64, kernel_size=3, stride=1, padding=1),\n",
    "            nn.ReLU(),\n",
    "        )\n",
    "\n",
    "        # Decoder\n",
    "        self.decoder = nn.Sequential(\n",
    "            nn.ConvTranspose1d(64, 32, kernel_size=3, stride=1, padding=1, output_padding=0),\n",
    "            nn.ReLU(),\n",
    "            nn.ConvTranspose1d(32, num_channels, kernel_size=3, stride=1, padding=1, output_padding=0),\n",
    "            nn.Sigmoid()            \n",
    "        )\n",
    "\n",
    "    def forward(self, x):\n",
    "        x = self.encoder(x)\n",
    "        x = self.decoder(x)\n",
    "        return x"
   ]
  },
  {
   "cell_type": "code",
   "execution_count": 6,
   "id": "c4d00d27",
   "metadata": {},
   "outputs": [],
   "source": [
    "df_aligned = pd.read_csv(\"C:/Users/khoah/PhD_Documents/SPLASH/compactor_classified_small_aligned.csv\")\n"
   ]
  },
  {
   "cell_type": "code",
   "execution_count": 7,
   "id": "eeba8e28",
   "metadata": {},
   "outputs": [],
   "source": [
    "msas = df_aligned.groupby(\"anchor_index\").agg(list).aligned_compactor.to_list()\n",
    "msa_prob_encoded = [calculate_prob_matrix(msa, alphabet_dict) for msa in msas]\n",
    "padded_sequences = pad_sequence(msa_prob_encoded, batch_first=True, padding_value=0)\n",
    "input_seqs = torch.swapaxes(padded_sequences, 1,2)"
   ]
  },
  {
   "cell_type": "code",
   "execution_count": 8,
   "id": "d9a6e3e0",
   "metadata": {},
   "outputs": [
    {
     "name": "stdout",
     "output_type": "stream",
     "text": [
      "train set size:  1765\n",
      "test set size:  442\n"
     ]
    }
   ],
   "source": [
    "# divide into train and test set\n",
    "train_size = int(0.8 * len(input_seqs))\n",
    "test_size = len(input_seqs) - train_size\n",
    "train_set, test_set = torch.utils.data.random_split(input_seqs, [train_size, test_size])\n",
    "print(\"train set size: \", len(train_set))\n",
    "print(\"test set size: \", len(test_set))"
   ]
  },
  {
   "cell_type": "code",
   "execution_count": 9,
   "id": "b84c3c21",
   "metadata": {},
   "outputs": [
    {
     "name": "stdout",
     "output_type": "stream",
     "text": [
      "Using cpu device\n",
      "Epoch [1/100], Loss: 0.2306\n",
      "Epoch [2/100], Loss: 0.2277\n",
      "Epoch [3/100], Loss: 0.2249\n",
      "Epoch [4/100], Loss: 0.2219\n",
      "Epoch [5/100], Loss: 0.2185\n",
      "Epoch [6/100], Loss: 0.2147\n",
      "Epoch [7/100], Loss: 0.2105\n",
      "Epoch [8/100], Loss: 0.2059\n",
      "Epoch [9/100], Loss: 0.2007\n",
      "Epoch [10/100], Loss: 0.1950\n",
      "Epoch [11/100], Loss: 0.1887\n",
      "Epoch [12/100], Loss: 0.1818\n",
      "Epoch [13/100], Loss: 0.1744\n",
      "Epoch [14/100], Loss: 0.1665\n",
      "Epoch [15/100], Loss: 0.1582\n",
      "Epoch [16/100], Loss: 0.1496\n",
      "Epoch [17/100], Loss: 0.1408\n",
      "Epoch [18/100], Loss: 0.1322\n",
      "Epoch [19/100], Loss: 0.1239\n",
      "Epoch [20/100], Loss: 0.1163\n",
      "Epoch [21/100], Loss: 0.1095\n",
      "Epoch [22/100], Loss: 0.1037\n",
      "Epoch [23/100], Loss: 0.0991\n",
      "Epoch [24/100], Loss: 0.0957\n",
      "Epoch [25/100], Loss: 0.0933\n",
      "Epoch [26/100], Loss: 0.0920\n",
      "Epoch [27/100], Loss: 0.0913\n",
      "Epoch [28/100], Loss: 0.0911\n",
      "Epoch [29/100], Loss: 0.0911\n",
      "Epoch [30/100], Loss: 0.0912\n",
      "Epoch [31/100], Loss: 0.0912\n",
      "Epoch [32/100], Loss: 0.0911\n",
      "Epoch [33/100], Loss: 0.0907\n",
      "Epoch [34/100], Loss: 0.0901\n",
      "Epoch [35/100], Loss: 0.0892\n",
      "Epoch [36/100], Loss: 0.0881\n",
      "Epoch [37/100], Loss: 0.0867\n",
      "Epoch [38/100], Loss: 0.0852\n",
      "Epoch [39/100], Loss: 0.0836\n",
      "Epoch [40/100], Loss: 0.0819\n",
      "Epoch [41/100], Loss: 0.0802\n",
      "Epoch [42/100], Loss: 0.0787\n",
      "Epoch [43/100], Loss: 0.0773\n",
      "Epoch [44/100], Loss: 0.0760\n",
      "Epoch [45/100], Loss: 0.0749\n",
      "Epoch [46/100], Loss: 0.0738\n",
      "Epoch [47/100], Loss: 0.0727\n",
      "Epoch [48/100], Loss: 0.0715\n",
      "Epoch [49/100], Loss: 0.0704\n",
      "Epoch [50/100], Loss: 0.0691\n",
      "Epoch [51/100], Loss: 0.0678\n",
      "Epoch [52/100], Loss: 0.0664\n",
      "Epoch [53/100], Loss: 0.0649\n",
      "Epoch [54/100], Loss: 0.0635\n",
      "Epoch [55/100], Loss: 0.0620\n",
      "Epoch [56/100], Loss: 0.0604\n",
      "Epoch [57/100], Loss: 0.0589\n",
      "Epoch [58/100], Loss: 0.0574\n",
      "Epoch [59/100], Loss: 0.0560\n",
      "Epoch [60/100], Loss: 0.0545\n",
      "Epoch [61/100], Loss: 0.0530\n",
      "Epoch [62/100], Loss: 0.0514\n",
      "Epoch [63/100], Loss: 0.0499\n",
      "Epoch [64/100], Loss: 0.0484\n",
      "Epoch [65/100], Loss: 0.0469\n",
      "Epoch [66/100], Loss: 0.0454\n",
      "Epoch [67/100], Loss: 0.0440\n",
      "Epoch [68/100], Loss: 0.0425\n",
      "Epoch [69/100], Loss: 0.0411\n",
      "Epoch [70/100], Loss: 0.0397\n",
      "Epoch [71/100], Loss: 0.0383\n",
      "Epoch [72/100], Loss: 0.0369\n",
      "Epoch [73/100], Loss: 0.0355\n",
      "Epoch [74/100], Loss: 0.0341\n",
      "Epoch [75/100], Loss: 0.0327\n",
      "Epoch [76/100], Loss: 0.0313\n",
      "Epoch [77/100], Loss: 0.0300\n",
      "Epoch [78/100], Loss: 0.0287\n",
      "Epoch [79/100], Loss: 0.0274\n",
      "Epoch [80/100], Loss: 0.0261\n",
      "Epoch [81/100], Loss: 0.0248\n",
      "Epoch [82/100], Loss: 0.0236\n",
      "Epoch [83/100], Loss: 0.0224\n",
      "Epoch [84/100], Loss: 0.0213\n",
      "Epoch [85/100], Loss: 0.0201\n",
      "Epoch [86/100], Loss: 0.0190\n",
      "Epoch [87/100], Loss: 0.0179\n",
      "Epoch [88/100], Loss: 0.0169\n",
      "Epoch [89/100], Loss: 0.0159\n",
      "Epoch [90/100], Loss: 0.0149\n",
      "Epoch [91/100], Loss: 0.0140\n",
      "Epoch [92/100], Loss: 0.0131\n",
      "Epoch [93/100], Loss: 0.0123\n",
      "Epoch [94/100], Loss: 0.0116\n",
      "Epoch [95/100], Loss: 0.0109\n",
      "Epoch [96/100], Loss: 0.0103\n",
      "Epoch [97/100], Loss: 0.0097\n",
      "Epoch [98/100], Loss: 0.0091\n",
      "Epoch [99/100], Loss: 0.0086\n",
      "Epoch [100/100], Loss: 0.0082\n",
      "Test loss: 0.0077\n"
     ]
    }
   ],
   "source": [
    "# use GPU if available\n",
    "device = torch.device(\"cuda\" if torch.cuda.is_available() else \"cpu\")\n",
    "print(f\"Using {device} device\")\n",
    "# Instantiate the model\n",
    "model = Autoencoder(6)\n",
    "\n",
    "# Choose a loss function (e.g., Mean Squared Error) and an optimizer (e.g., Adam)\n",
    "criterion = nn.MSELoss()\n",
    "optimizer = optim.Adam(model.parameters(), lr=0.001)\n",
    "\n",
    "# Training loop\n",
    "num_epochs = 100\n",
    "for epoch in range(num_epochs):\n",
    "    # Forward pass\n",
    "    outputs = model(train_set.dataset)\n",
    "    loss = criterion(outputs, train_set.dataset)\n",
    "\n",
    "    # Backward pass and optimization\n",
    "    optimizer.zero_grad()\n",
    "    loss.backward()\n",
    "    optimizer.step()\n",
    "\n",
    "    # Print progress\n",
    "    print(f'Epoch [{epoch + 1}/{num_epochs}], Loss: {loss.item():.4f}')\n",
    "\n",
    "# Test the model\n",
    "with torch.no_grad():\n",
    "    outputs = model(test_set.dataset)\n",
    "    loss = criterion(outputs, test_set.dataset)\n",
    "    print(f'Test loss: {loss.item():.4f}')"
   ]
  },
  {
   "cell_type": "code",
   "execution_count": null,
   "id": "d7a8eae9",
   "metadata": {},
   "outputs": [
    {
     "data": {
      "text/plain": [
       "[<matplotlib.lines.Line2D at 0x187ffc21790>,\n",
       " <matplotlib.lines.Line2D at 0x187ffc00d10>,\n",
       " <matplotlib.lines.Line2D at 0x187ffa9c310>,\n",
       " <matplotlib.lines.Line2D at 0x187ffc30f10>,\n",
       " <matplotlib.lines.Line2D at 0x187ffc31350>,\n",
       " <matplotlib.lines.Line2D at 0x187ffc318d0>]"
      ]
     },
     "execution_count": 10,
     "metadata": {},
     "output_type": "execute_result"
    }
   ],
   "source": [
    "plt.plot(outputs[0].T)"
   ]
  },
  {
   "cell_type": "code",
   "execution_count": 45,
   "id": "d4c49b80",
   "metadata": {},
   "outputs": [
    {
     "ename": "",
     "evalue": "",
     "output_type": "error",
     "traceback": [
      "\u001b[1;31mThe Kernel crashed while executing code in the the current cell or a previous cell. Please review the code in the cell(s) to identify a possible cause of the failure. Click <a href='https://aka.ms/vscodeJupyterKernelCrash'>here</a> for more info. View Jupyter <a href='command:jupyter.viewOutput'>log</a> for further details."
     ]
    }
   ],
   "source": [
    "# Visualize the first 10 input images and then reconstructed images\n",
    "with torch.no_grad():\n",
    "    input_images = test_set.dataset[:10]\n",
    "    outputs = model(input_images)\n",
    "\n",
    "    # Plot the first ten input images and then reconstructed images\n",
    "    for i in range(10):\n",
    "        plt.subplot(2, 10, i + 1)\n",
    "        plt.imshow(input_images[i].squeeze(), cmap='gray')\n",
    "        plt.subplot(2, 10, i + 1 + 10)\n",
    "        plt.imshow(outputs[i].squeeze(), cmap='gray')\n",
    "    plt.show()"
   ]
  }
 ],
 "metadata": {
  "kernelspec": {
   "display_name": "Python 3 (ipykernel)",
   "language": "python",
   "name": "python3"
  },
  "language_info": {
   "codemirror_mode": {
    "name": "ipython",
    "version": 3
   },
   "file_extension": ".py",
   "mimetype": "text/x-python",
   "name": "python",
   "nbconvert_exporter": "python",
   "pygments_lexer": "ipython3",
   "version": "3.11.5"
  }
 },
 "nbformat": 4,
 "nbformat_minor": 5
}
