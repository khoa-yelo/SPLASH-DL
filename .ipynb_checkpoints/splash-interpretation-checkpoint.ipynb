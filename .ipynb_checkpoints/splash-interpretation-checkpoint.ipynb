{
 "cells": [
  {
   "cell_type": "code",
   "execution_count": 1,
   "id": "ac9a07b7",
   "metadata": {},
   "outputs": [
    {
     "name": "stderr",
     "output_type": "stream",
     "text": [
      "/home/users/khoang99/.local/lib/python3.9/site-packages/Bio/pairwise2.py:278: BiopythonDeprecationWarning: Bio.pairwise2 has been deprecated, and we intend to remove it in a future release of Biopython. As an alternative, please consider using Bio.Align.PairwiseAligner as a replacement, and contact the Biopython developers if you still need the Bio.pairwise2 module.\n",
      "  warnings.warn(\n"
     ]
    },
    {
     "name": "stdout",
     "output_type": "stream",
     "text": [
      "All tests passed\n"
     ]
    }
   ],
   "source": [
    "import os\n",
    "os.environ[\"KMP_DUPLICATE_LIB_OK\"]=\"TRUE\"\n",
    "import torch\n",
    "import torch.nn as nn\n",
    "import torch.optim as optim\n",
    "from torch.nn.utils.rnn import pad_sequence\n",
    "\n",
    "import captum\n",
    "from captum.attr import LayerIntegratedGradients, TokenReferenceBase, visualization, IntegratedGradients\n",
    "\n",
    "from msa import MSA\n",
    "\n",
    "import pandas as pd\n",
    "import matplotlib.pyplot as plt\n",
    "import seaborn as sns\n",
    "import numpy as np\n",
    "from collections import Counter\n",
    "\n",
    "from sklearn.decomposition import PCA\n",
    "from sklearn.preprocessing import StandardScaler\n",
    "from sklearn.preprocessing import LabelEncoder\n",
    "\n",
    "import sklearn.metrics as metrics\n",
    "\n",
    "import umap\n",
    "\n",
    "from redundancy_remover import compress_seqs"
   ]
  },
  {
   "cell_type": "code",
   "execution_count": 2,
   "id": "15bbcb68",
   "metadata": {},
   "outputs": [],
   "source": [
    "alphabet_dict = {\"-\": 0, \"A\": 1, \"C\": 2, \"G\": 3, \"T\": 4}\n",
    "lab2onehot =  lambda seq: torch.eye(len(alphabet_dict))[seq]\n",
    "seq2lab = lambda seq: torch.tensor([alphabet_dict[i] for i in seq])"
   ]
  },
  {
   "cell_type": "code",
   "execution_count": 3,
   "id": "f67ff16c",
   "metadata": {},
   "outputs": [],
   "source": [
    "def label(seqs, alphabet_dict):\n",
    "    assert any(seqs), \"empty sequence input\"\n",
    "    assert any([len(seq) != len(seq[0]) for seq in seqs])\n",
    "    encoded_seqs = torch.ones((len(seqs), len(seqs[0])))\n",
    "    for i,seq in enumerate(seqs):\n",
    "        encoded_seq = torch.tensor([alphabet_dict[a] for a in seq])\n",
    "        encoded_seqs[i,:] = encoded_seq\n",
    "    return encoded_seqs\n",
    "\n",
    "def onehot(seqs, alphabet_dict):\n",
    "    assert any(seqs), \"empty sequence input\"\n",
    "    assert any([len(seq) != len(seq[0]) for seq in seqs])\n",
    "    encoded_seqs = torch.ones((len(seqs), len(seqs[0]), len(alphabet_dict)))\n",
    "    for i,seq in enumerate(seqs):\n",
    "        encoded_seq = seq2lab(seq)\n",
    "        encoded_seq_onehot = lab2onehot(encoded_seq)\n",
    "        encoded_seqs[i,:,:] = encoded_seq_onehot\n",
    "    return encoded_seqs\n",
    "\n",
    "def calculate_prob_matrix(seqs, alphabet_dict):    \n",
    "    onehot_vect = onehot(seqs, alphabet_dict)\n",
    "    return (onehot_vect.sum(dim=0).T / onehot_vect.sum(dim=[0,2])).T"
   ]
  },
  {
   "cell_type": "code",
   "execution_count": 111,
   "id": "1e7eae9d",
   "metadata": {},
   "outputs": [],
   "source": [
    "class Autoencoder(nn.Module):\n",
    "    def __init__(self, num_channels):\n",
    "        super(Autoencoder, self).__init__()\n",
    "        \n",
    "        # Encoder layers\n",
    "        self.encoder = nn.Sequential(\n",
    "            nn.Conv1d(num_channels, 32, kernel_size=3, stride=2, padding=1),\n",
    "            nn.ReLU(),\n",
    "            nn.Conv1d(32, 64, kernel_size=3, stride=2, padding=1),\n",
    "            nn.ReLU(),\n",
    "            nn.Conv1d(64, 128, kernel_size=3, stride=2, padding=1),\n",
    "            nn.ReLU()\n",
    "        )\n",
    "        \n",
    "        # Bottleneck linear layer\n",
    "        self.bottleneck = nn.Linear(2048, 128)  # Adjust your_input_length\n",
    "        \n",
    "        # Decoder layers\n",
    "        self.decoder = nn.Sequential(\n",
    "            nn.ConvTranspose1d(32, 64, kernel_size=3, stride=2, padding=1, output_padding=1),\n",
    "            nn.ReLU(),\n",
    "            nn.ConvTranspose1d(64, 64, kernel_size=3, stride=2, padding=1, output_padding=1),\n",
    "            nn.ReLU(),\n",
    "            nn.ConvTranspose1d(64, 64, kernel_size=3, stride=2, padding=1, output_padding=1),\n",
    "            nn.ReLU(),\n",
    "            nn.ConvTranspose1d(64, 64, kernel_size=3, stride=2, padding=1, output_padding=0),\n",
    "            nn.ReLU(),\n",
    "            nn.ConvTranspose1d(64, num_channels, kernel_size=3, stride=2, padding=1, output_padding=1),\n",
    "            nn.Sigmoid()  # Use sigmoid activation for the output to constrain values between 0 and 1\n",
    "        )\n",
    "\n",
    "    def l1_regularization(self):\n",
    "        l1_reg = 0.0\n",
    "        for param in self.encoder.parameters():\n",
    "            l1_reg += torch.sum(torch.abs(param))\n",
    "        return l1_reg\n",
    "\n",
    "    def forward(self, x):\n",
    "        # print(x.shape)\n",
    "        x = self.encoder(x)\n",
    "        # print(x.shape)\n",
    "        x = x.view(x.size(0), -1)\n",
    "        # print(x.shape)\n",
    "        x = self.bottleneck(x)\n",
    "        # print(x.shape)\n",
    "        x = x.view(x.size(0), 32, -1)\n",
    "        # print(x.shape)\n",
    "        x = self.decoder(x)  # Adjust your_input_length\n",
    "        # print(x.shape)\n",
    "        return x\n",
    "\n",
    "    def encode(self, x):\n",
    "        x = self.encoder(x)\n",
    "        x = x.view(x.size(0), -1)\n",
    "        x = self.bottleneck(x)\n",
    "        return x"
   ]
  },
  {
   "cell_type": "code",
   "execution_count": 232,
   "id": "c4d00d27",
   "metadata": {},
   "outputs": [
    {
     "data": {
      "text/plain": [
       "array(['Base_pair_change_7', 'Repeat', 'Base_pair_change_6',\n",
       "       'Base_pair_change_1', '3UTR', 'Centromere', 'splicing',\n",
       "       'Internal_splicing'], dtype=object)"
      ]
     },
     "execution_count": 232,
     "metadata": {},
     "output_type": "execute_result"
    }
   ],
   "source": [
    "df_aligned = pd.read_csv(\"/oak/stanford/groups/horence/khoa/data/splash_classification/aligned_subset_TSP_SS2_tissue-TSP5-Eye-classified_compactors.csv\")\n",
    "df_aligned.anchor_event.unique()"
   ]
  },
  {
   "cell_type": "code",
   "execution_count": 233,
   "id": "3f5db2a3",
   "metadata": {},
   "outputs": [
    {
     "data": {
      "text/plain": [
       "array(['3UTR', 'splicing'], dtype=object)"
      ]
     },
     "execution_count": 233,
     "metadata": {},
     "output_type": "execute_result"
    }
   ],
   "source": [
    "#filter for anchor event == splicing or centromere\n",
    "df_aligned = df_aligned[df_aligned[\"anchor_event\"].isin([\"splicing\", \"3UTR\"])]\n",
    "df_aligned_group = df_aligned.groupby(\"anchor_index\").agg(list).reset_index()\n",
    "df_aligned.anchor_event.unique()\n"
   ]
  },
  {
   "cell_type": "code",
   "execution_count": 234,
   "id": "eeba8e28",
   "metadata": {},
   "outputs": [
    {
     "name": "stdout",
     "output_type": "stream",
     "text": [
      "Reduce from 3412 to 1725\n",
      "Reduce from 1725 to 1635\n",
      "Reduce from 1635 to 1627\n",
      "Reduce from 1627 to 1625\n",
      "Reduce from 1625 to 1625\n"
     ]
    },
    {
     "data": {
      "text/plain": [
       "torch.Size([1625, 5, 134])"
      ]
     },
     "execution_count": 234,
     "metadata": {},
     "output_type": "execute_result"
    }
   ],
   "source": [
    "all_msa = []\n",
    "for i, row in df_aligned_group.iterrows():\n",
    "    msa = MSA(anchor=row[\"anchor_index\"], \\\n",
    "              seqs=row[\"compactor_valid\"], \\\n",
    "              aligned_seqs=row[\"aligned_compactor\"], \\\n",
    "              alphabet_dict=alphabet_dict, \\\n",
    "              counts=row[\"valid_abundance\"])\n",
    "    all_msa.append(msa)\n",
    "    \n",
    "candidates = [msa_seq.longest_seq for msa_seq in all_msa]\n",
    "non_redudant_seqs, non_redundant_indices = compress_seqs(candidates)\n",
    "original_labels = df_aligned_group.anchor_event.apply(lambda x: x[0]).to_list()\n",
    "non_redundant_labels = [original_labels[i] for i in non_redundant_indices]\n",
    "non_redundant_msa = [all_msa[i] for i in non_redundant_indices]\n",
    "\n",
    "msa_prob_encoded = [msa.prob_matrix for msa in non_redundant_msa]\n",
    "padded_sequences = pad_sequence(msa_prob_encoded, batch_first=True, padding_value=0)\n",
    "input_seqs = torch.swapaxes(padded_sequences, 1,2)\n",
    "input_seqs.shape"
   ]
  },
  {
   "cell_type": "code",
   "execution_count": 460,
   "id": "bcf51fbd",
   "metadata": {},
   "outputs": [
    {
     "data": {
      "text/plain": [
       "torch.Size([711, 5, 130])"
      ]
     },
     "execution_count": 460,
     "metadata": {},
     "output_type": "execute_result"
    }
   ],
   "source": [
    "msa_prob_encoded_balanced = []\n",
    "non_redundant_labels_balanced = []\n",
    "for lab, seq in tuple(zip(non_redundant_labels, msa_prob_encoded)):\n",
    "    if lab == \"3UTR\":\n",
    "        if np.random.random() < 0.3:\n",
    "            msa_prob_encoded_balanced.append(seq)\n",
    "            non_redundant_labels_balanced.append(lab)\n",
    "    else:\n",
    "        msa_prob_encoded_balanced.append(seq)\n",
    "        non_redundant_labels_balanced.append(lab)\n",
    "padded_sequences = pad_sequence(msa_prob_encoded_balanced, batch_first=True, padding_value=0)\n",
    "input_seqs = torch.swapaxes(padded_sequences, 1,2) \n",
    "input_seqs.shape"
   ]
  },
  {
   "cell_type": "code",
   "execution_count": 491,
   "id": "a5d70b09",
   "metadata": {},
   "outputs": [],
   "source": [
    "msa_prob_encoded_truncated_splicing = []\n",
    "for lab, seq in tuple(zip(non_redundant_labels_balanced, msa_prob_encoded_balanced)):\n",
    "    if lab == \"splicing\":\n",
    "        seq = seq[10:,:]\n",
    "    msa_prob_encoded_truncated_splicing.append(seq)\n",
    "padded_sequences = pad_sequence(msa_prob_encoded_truncated_splicing, batch_first=True, padding_value=0)\n",
    "input_seqs = torch.swapaxes(padded_sequences, 1,2) "
   ]
  },
  {
   "cell_type": "code",
   "execution_count": 492,
   "id": "6fd90ede",
   "metadata": {},
   "outputs": [
    {
     "data": {
      "text/plain": [
       "torch.Size([711, 5, 130])"
      ]
     },
     "execution_count": 492,
     "metadata": {},
     "output_type": "execute_result"
    }
   ],
   "source": [
    "input_seqs.shape"
   ]
  },
  {
   "cell_type": "code",
   "execution_count": 493,
   "id": "37369626",
   "metadata": {},
   "outputs": [
    {
     "data": {
      "text/plain": [
       "Counter({'3UTR': 340, 'splicing': 371})"
      ]
     },
     "execution_count": 493,
     "metadata": {},
     "output_type": "execute_result"
    }
   ],
   "source": [
    "Counter(non_redundant_labels_balanced)"
   ]
  },
  {
   "cell_type": "code",
   "execution_count": 115,
   "id": "d9a6e3e0",
   "metadata": {},
   "outputs": [
    {
     "name": "stdout",
     "output_type": "stream",
     "text": [
      "train set size:  572\n",
      "test set size:  143\n"
     ]
    }
   ],
   "source": [
    "# divide into train and test set\n",
    "train_size = int(0.8 * len(input_seqs))\n",
    "test_size = len(input_seqs) - train_size\n",
    "train_set, test_set = torch.utils.data.random_split(input_seqs, [train_size, test_size])\n",
    "print(\"train set size: \", len(train_set))\n",
    "print(\"test set size: \", len(test_set))"
   ]
  },
  {
   "cell_type": "code",
   "execution_count": 116,
   "id": "b84c3c21",
   "metadata": {},
   "outputs": [
    {
     "name": "stdout",
     "output_type": "stream",
     "text": [
      "Using cuda device\n",
      "Sparsity_Loss =  0.0\n",
      "Epoch [1/300]\n",
      "Train loss: 0.2205\n",
      "Test loss: 0.2205\n",
      "Sparsity_Loss =  0.0\n",
      "Epoch [2/300]\n",
      "Train loss: 0.1991\n",
      "Test loss: 0.1990\n",
      "Sparsity_Loss =  0.0\n",
      "Epoch [3/300]\n",
      "Train loss: 0.1334\n",
      "Test loss: 0.1329\n",
      "Sparsity_Loss =  0.0\n",
      "Epoch [4/300]\n",
      "Train loss: 0.1266\n",
      "Test loss: 0.1262\n",
      "Sparsity_Loss =  0.0\n",
      "Epoch [5/300]\n",
      "Train loss: 0.1247\n",
      "Test loss: 0.1240\n",
      "Sparsity_Loss =  0.0\n",
      "Epoch [6/300]\n",
      "Train loss: 0.1195\n",
      "Test loss: 0.1188\n",
      "Sparsity_Loss =  0.0\n",
      "Epoch [7/300]\n",
      "Train loss: 0.1123\n",
      "Test loss: 0.1116\n",
      "Sparsity_Loss =  0.0\n",
      "Epoch [8/300]\n",
      "Train loss: 0.1056\n",
      "Test loss: 0.1049\n",
      "Sparsity_Loss =  0.0\n",
      "Epoch [9/300]\n",
      "Train loss: 0.1021\n",
      "Test loss: 0.1017\n",
      "Sparsity_Loss =  0.0\n",
      "Epoch [10/300]\n",
      "Train loss: 0.0999\n",
      "Test loss: 0.0997\n",
      "Sparsity_Loss =  0.0\n",
      "Epoch [11/300]\n",
      "Train loss: 0.0987\n",
      "Test loss: 0.0984\n",
      "Sparsity_Loss =  0.0\n",
      "Epoch [12/300]\n",
      "Train loss: 0.0984\n",
      "Test loss: 0.0981\n",
      "Sparsity_Loss =  0.0\n",
      "Epoch [13/300]\n",
      "Train loss: 0.0982\n",
      "Test loss: 0.0978\n",
      "Sparsity_Loss =  0.0\n",
      "Epoch [14/300]\n",
      "Train loss: 0.0979\n",
      "Test loss: 0.0976\n",
      "Sparsity_Loss =  0.0\n",
      "Epoch [15/300]\n",
      "Train loss: 0.0978\n",
      "Test loss: 0.0974\n",
      "Sparsity_Loss =  0.0\n",
      "Epoch [16/300]\n",
      "Train loss: 0.0976\n",
      "Test loss: 0.0973\n",
      "Sparsity_Loss =  0.0\n",
      "Epoch [17/300]\n",
      "Train loss: 0.0975\n",
      "Test loss: 0.0972\n",
      "Sparsity_Loss =  0.0\n",
      "Epoch [18/300]\n",
      "Train loss: 0.0974\n",
      "Test loss: 0.0970\n",
      "Sparsity_Loss =  0.0\n",
      "Epoch [19/300]\n",
      "Train loss: 0.0972\n",
      "Test loss: 0.0969\n",
      "Sparsity_Loss =  0.0\n",
      "Epoch [20/300]\n",
      "Train loss: 0.0970\n",
      "Test loss: 0.0967\n",
      "Sparsity_Loss =  0.0\n",
      "Epoch [21/300]\n",
      "Train loss: 0.0968\n",
      "Test loss: 0.0965\n",
      "Sparsity_Loss =  0.0\n",
      "Epoch [22/300]\n",
      "Train loss: 0.0966\n",
      "Test loss: 0.0963\n",
      "Sparsity_Loss =  0.0\n",
      "Epoch [23/300]\n",
      "Train loss: 0.0965\n",
      "Test loss: 0.0961\n",
      "Sparsity_Loss =  0.0\n",
      "Epoch [24/300]\n",
      "Train loss: 0.0963\n",
      "Test loss: 0.0959\n",
      "Sparsity_Loss =  0.0\n",
      "Epoch [25/300]\n",
      "Train loss: 0.0961\n",
      "Test loss: 0.0958\n",
      "Sparsity_Loss =  0.0\n",
      "Epoch [26/300]\n",
      "Train loss: 0.0960\n",
      "Test loss: 0.0956\n",
      "Sparsity_Loss =  0.0\n",
      "Epoch [27/300]\n",
      "Train loss: 0.0958\n",
      "Test loss: 0.0955\n",
      "Sparsity_Loss =  0.0\n",
      "Epoch [28/300]\n",
      "Train loss: 0.0957\n",
      "Test loss: 0.0954\n",
      "Sparsity_Loss =  0.0\n",
      "Epoch [29/300]\n",
      "Train loss: 0.0956\n",
      "Test loss: 0.0953\n",
      "Sparsity_Loss =  0.0\n",
      "Epoch [30/300]\n",
      "Train loss: 0.0956\n",
      "Test loss: 0.0953\n",
      "Sparsity_Loss =  0.0\n",
      "Epoch [31/300]\n",
      "Train loss: 0.0955\n",
      "Test loss: 0.0952\n",
      "Sparsity_Loss =  0.0\n",
      "Epoch [32/300]\n",
      "Train loss: 0.0955\n",
      "Test loss: 0.0952\n",
      "Sparsity_Loss =  0.0\n",
      "Epoch [33/300]\n",
      "Train loss: 0.0955\n",
      "Test loss: 0.0951\n",
      "Sparsity_Loss =  0.0\n",
      "Epoch [34/300]\n",
      "Train loss: 0.0954\n",
      "Test loss: 0.0951\n",
      "Sparsity_Loss =  0.0\n",
      "Epoch [35/300]\n",
      "Train loss: 0.0954\n",
      "Test loss: 0.0951\n",
      "Sparsity_Loss =  0.0\n",
      "Epoch [36/300]\n",
      "Train loss: 0.0954\n",
      "Test loss: 0.0951\n",
      "Sparsity_Loss =  0.0\n",
      "Epoch [37/300]\n",
      "Train loss: 0.0954\n",
      "Test loss: 0.0950\n",
      "Sparsity_Loss =  0.0\n",
      "Epoch [38/300]\n",
      "Train loss: 0.0953\n",
      "Test loss: 0.0950\n",
      "Sparsity_Loss =  0.0\n",
      "Epoch [39/300]\n",
      "Train loss: 0.0953\n",
      "Test loss: 0.0950\n",
      "Sparsity_Loss =  0.0\n",
      "Epoch [40/300]\n",
      "Train loss: 0.0953\n",
      "Test loss: 0.0950\n",
      "Sparsity_Loss =  0.0\n",
      "Epoch [41/300]\n",
      "Train loss: 0.0952\n",
      "Test loss: 0.0949\n",
      "Sparsity_Loss =  0.0\n",
      "Epoch [42/300]\n",
      "Train loss: 0.0952\n",
      "Test loss: 0.0949\n",
      "Sparsity_Loss =  0.0\n",
      "Epoch [43/300]\n",
      "Train loss: 0.0951\n",
      "Test loss: 0.0948\n",
      "Sparsity_Loss =  0.0\n",
      "Epoch [44/300]\n",
      "Train loss: 0.0950\n",
      "Test loss: 0.0947\n",
      "Sparsity_Loss =  0.0\n",
      "Epoch [45/300]\n",
      "Train loss: 0.0948\n",
      "Test loss: 0.0945\n",
      "Sparsity_Loss =  0.0\n",
      "Epoch [46/300]\n",
      "Train loss: 0.0946\n",
      "Test loss: 0.0943\n",
      "Sparsity_Loss =  0.0\n",
      "Epoch [47/300]\n",
      "Train loss: 0.0944\n",
      "Test loss: 0.0941\n",
      "Sparsity_Loss =  0.0\n",
      "Epoch [48/300]\n",
      "Train loss: 0.0941\n",
      "Test loss: 0.0938\n",
      "Sparsity_Loss =  0.0\n",
      "Epoch [49/300]\n",
      "Train loss: 0.0938\n",
      "Test loss: 0.0934\n",
      "Sparsity_Loss =  0.0\n",
      "Epoch [50/300]\n",
      "Train loss: 0.0934\n",
      "Test loss: 0.0931\n",
      "Sparsity_Loss =  0.0\n",
      "Epoch [51/300]\n",
      "Train loss: 0.0931\n",
      "Test loss: 0.0928\n",
      "Sparsity_Loss =  0.0\n",
      "Epoch [52/300]\n",
      "Train loss: 0.0927\n",
      "Test loss: 0.0924\n",
      "Sparsity_Loss =  0.0\n",
      "Epoch [53/300]\n",
      "Train loss: 0.0920\n",
      "Test loss: 0.0918\n",
      "Sparsity_Loss =  0.0\n",
      "Epoch [54/300]\n",
      "Train loss: 0.0916\n",
      "Test loss: 0.0915\n",
      "Sparsity_Loss =  0.0\n",
      "Epoch [55/300]\n",
      "Train loss: 0.0913\n",
      "Test loss: 0.0912\n",
      "Sparsity_Loss =  0.0\n",
      "Epoch [56/300]\n",
      "Train loss: 0.0911\n",
      "Test loss: 0.0909\n",
      "Sparsity_Loss =  0.0\n",
      "Epoch [57/300]\n",
      "Train loss: 0.0908\n",
      "Test loss: 0.0907\n",
      "Sparsity_Loss =  0.0\n",
      "Epoch [58/300]\n",
      "Train loss: 0.0906\n",
      "Test loss: 0.0905\n",
      "Sparsity_Loss =  0.0\n",
      "Epoch [59/300]\n",
      "Train loss: 0.0904\n",
      "Test loss: 0.0903\n",
      "Sparsity_Loss =  0.0\n",
      "Epoch [60/300]\n",
      "Train loss: 0.0903\n",
      "Test loss: 0.0902\n",
      "Sparsity_Loss =  0.0\n",
      "Epoch [61/300]\n",
      "Train loss: 0.0902\n",
      "Test loss: 0.0901\n",
      "Sparsity_Loss =  0.0\n",
      "Epoch [62/300]\n",
      "Train loss: 0.0900\n",
      "Test loss: 0.0900\n",
      "Sparsity_Loss =  0.0\n",
      "Epoch [63/300]\n",
      "Train loss: 0.0899\n",
      "Test loss: 0.0899\n",
      "Sparsity_Loss =  0.0\n",
      "Epoch [64/300]\n",
      "Train loss: 0.0898\n",
      "Test loss: 0.0899\n",
      "Sparsity_Loss =  0.0\n",
      "Epoch [65/300]\n",
      "Train loss: 0.0897\n",
      "Test loss: 0.0898\n",
      "Sparsity_Loss =  0.0\n",
      "Epoch [66/300]\n",
      "Train loss: 0.0896\n",
      "Test loss: 0.0897\n",
      "Sparsity_Loss =  0.0\n",
      "Epoch [67/300]\n",
      "Train loss: 0.0896\n",
      "Test loss: 0.0897\n",
      "Sparsity_Loss =  0.0\n",
      "Epoch [68/300]\n",
      "Train loss: 0.0895\n",
      "Test loss: 0.0897\n",
      "Sparsity_Loss =  0.0\n",
      "Epoch [69/300]\n",
      "Train loss: 0.0894\n",
      "Test loss: 0.0897\n",
      "Sparsity_Loss =  0.0\n",
      "Epoch [70/300]\n",
      "Train loss: 0.0894\n",
      "Test loss: 0.0896\n",
      "Sparsity_Loss =  0.0\n",
      "Epoch [71/300]\n",
      "Train loss: 0.0893\n",
      "Test loss: 0.0896\n",
      "Sparsity_Loss =  0.0\n",
      "Epoch [72/300]\n",
      "Train loss: 0.0893\n",
      "Test loss: 0.0895\n",
      "Sparsity_Loss =  0.0\n",
      "Epoch [73/300]\n",
      "Train loss: 0.0892\n",
      "Test loss: 0.0895\n",
      "Sparsity_Loss =  0.0\n",
      "Epoch [74/300]\n",
      "Train loss: 0.0891\n",
      "Test loss: 0.0895\n",
      "Sparsity_Loss =  0.0\n",
      "Epoch [75/300]\n",
      "Train loss: 0.0891\n",
      "Test loss: 0.0894\n",
      "Sparsity_Loss =  0.0\n",
      "Epoch [76/300]\n",
      "Train loss: 0.0890\n",
      "Test loss: 0.0894\n",
      "Sparsity_Loss =  0.0\n",
      "Epoch [77/300]\n",
      "Train loss: 0.0889\n",
      "Test loss: 0.0894\n",
      "Sparsity_Loss =  0.0\n",
      "Epoch [78/300]\n",
      "Train loss: 0.0888\n",
      "Test loss: 0.0893\n",
      "Sparsity_Loss =  0.0\n",
      "Epoch [79/300]\n",
      "Train loss: 0.0888\n",
      "Test loss: 0.0893\n",
      "Sparsity_Loss =  0.0\n",
      "Epoch [80/300]\n",
      "Train loss: 0.0887\n",
      "Test loss: 0.0893\n",
      "Sparsity_Loss =  0.0\n",
      "Epoch [81/300]\n",
      "Train loss: 0.0887\n",
      "Test loss: 0.0893\n",
      "Sparsity_Loss =  0.0\n",
      "Epoch [82/300]\n",
      "Train loss: 0.0886\n",
      "Test loss: 0.0892\n",
      "Sparsity_Loss =  0.0\n",
      "Epoch [83/300]\n",
      "Train loss: 0.0885\n",
      "Test loss: 0.0892\n",
      "Sparsity_Loss =  0.0\n",
      "Epoch [84/300]\n",
      "Train loss: 0.0885\n",
      "Test loss: 0.0891\n",
      "Sparsity_Loss =  0.0\n",
      "Epoch [85/300]\n",
      "Train loss: 0.0884\n",
      "Test loss: 0.0891\n",
      "Sparsity_Loss =  0.0\n",
      "Epoch [86/300]\n",
      "Train loss: 0.0883\n",
      "Test loss: 0.0891\n",
      "Sparsity_Loss =  0.0\n",
      "Epoch [87/300]\n",
      "Train loss: 0.0882\n",
      "Test loss: 0.0890\n",
      "Sparsity_Loss =  0.0\n",
      "Epoch [88/300]\n",
      "Train loss: 0.0881\n",
      "Test loss: 0.0889\n",
      "Sparsity_Loss =  0.0\n",
      "Epoch [89/300]\n",
      "Train loss: 0.0880\n",
      "Test loss: 0.0888\n",
      "Sparsity_Loss =  0.0\n",
      "Epoch [90/300]\n",
      "Train loss: 0.0878\n",
      "Test loss: 0.0887\n",
      "Sparsity_Loss =  0.0\n",
      "Epoch [91/300]\n",
      "Train loss: 0.0876\n",
      "Test loss: 0.0885\n",
      "Sparsity_Loss =  0.0\n",
      "Epoch [92/300]\n",
      "Train loss: 0.0873\n",
      "Test loss: 0.0883\n",
      "Sparsity_Loss =  0.0\n",
      "Epoch [93/300]\n",
      "Train loss: 0.0871\n",
      "Test loss: 0.0882\n",
      "Sparsity_Loss =  0.0\n",
      "Epoch [94/300]\n",
      "Train loss: 0.0869\n",
      "Test loss: 0.0880\n",
      "Sparsity_Loss =  0.0\n",
      "Epoch [95/300]\n",
      "Train loss: 0.0867\n",
      "Test loss: 0.0879\n",
      "Sparsity_Loss =  0.0\n",
      "Epoch [96/300]\n",
      "Train loss: 0.0865\n",
      "Test loss: 0.0878\n",
      "Sparsity_Loss =  0.0\n",
      "Epoch [97/300]\n",
      "Train loss: 0.0863\n",
      "Test loss: 0.0876\n",
      "Sparsity_Loss =  0.0\n",
      "Epoch [98/300]\n",
      "Train loss: 0.0863\n",
      "Test loss: 0.0877\n",
      "Sparsity_Loss =  0.0\n",
      "Epoch [99/300]\n",
      "Train loss: 0.0859\n",
      "Test loss: 0.0874\n",
      "Sparsity_Loss =  0.0\n",
      "Epoch [100/300]\n",
      "Train loss: 0.0860\n",
      "Test loss: 0.0875\n",
      "Sparsity_Loss =  0.0\n",
      "Epoch [101/300]\n",
      "Train loss: 0.0859\n",
      "Test loss: 0.0875\n",
      "Sparsity_Loss =  0.0\n",
      "Epoch [102/300]\n",
      "Train loss: 0.0859\n",
      "Test loss: 0.0875\n",
      "Sparsity_Loss =  0.0\n",
      "Epoch [103/300]\n",
      "Train loss: 0.0858\n",
      "Test loss: 0.0874\n",
      "Sparsity_Loss =  0.0\n",
      "Epoch [104/300]\n",
      "Train loss: 0.0855\n",
      "Test loss: 0.0873\n",
      "Sparsity_Loss =  0.0\n",
      "Epoch [105/300]\n",
      "Train loss: 0.0853\n",
      "Test loss: 0.0872\n",
      "Sparsity_Loss =  0.0\n",
      "Epoch [106/300]\n",
      "Train loss: 0.0853\n",
      "Test loss: 0.0872\n",
      "Sparsity_Loss =  0.0\n",
      "Epoch [107/300]\n",
      "Train loss: 0.0850\n",
      "Test loss: 0.0869\n",
      "Sparsity_Loss =  0.0\n",
      "Epoch [108/300]\n",
      "Train loss: 0.0847\n",
      "Test loss: 0.0867\n",
      "Sparsity_Loss =  0.0\n",
      "Epoch [109/300]\n",
      "Train loss: 0.0846\n",
      "Test loss: 0.0866\n",
      "Sparsity_Loss =  0.0\n",
      "Epoch [110/300]\n",
      "Train loss: 0.0846\n",
      "Test loss: 0.0866\n",
      "Sparsity_Loss =  0.0\n",
      "Epoch [111/300]\n",
      "Train loss: 0.0844\n",
      "Test loss: 0.0865\n",
      "Sparsity_Loss =  0.0\n",
      "Epoch [112/300]\n",
      "Train loss: 0.0839\n",
      "Test loss: 0.0861\n"
     ]
    },
    {
     "name": "stdout",
     "output_type": "stream",
     "text": [
      "Sparsity_Loss =  0.0\n",
      "Epoch [113/300]\n",
      "Train loss: 0.0837\n",
      "Test loss: 0.0860\n",
      "Sparsity_Loss =  0.0\n",
      "Epoch [114/300]\n",
      "Train loss: 0.0835\n",
      "Test loss: 0.0858\n",
      "Sparsity_Loss =  0.0\n",
      "Epoch [115/300]\n",
      "Train loss: 0.0832\n",
      "Test loss: 0.0856\n",
      "Sparsity_Loss =  0.0\n",
      "Epoch [116/300]\n",
      "Train loss: 0.0830\n",
      "Test loss: 0.0855\n",
      "Sparsity_Loss =  0.0\n",
      "Epoch [117/300]\n",
      "Train loss: 0.0829\n",
      "Test loss: 0.0855\n",
      "Sparsity_Loss =  0.0\n",
      "Epoch [118/300]\n",
      "Train loss: 0.0827\n",
      "Test loss: 0.0854\n",
      "Sparsity_Loss =  0.0\n",
      "Epoch [119/300]\n",
      "Train loss: 0.0824\n",
      "Test loss: 0.0852\n",
      "Sparsity_Loss =  0.0\n",
      "Epoch [120/300]\n",
      "Train loss: 0.0821\n",
      "Test loss: 0.0849\n",
      "Sparsity_Loss =  0.0\n",
      "Epoch [121/300]\n",
      "Train loss: 0.0829\n",
      "Test loss: 0.0856\n",
      "Sparsity_Loss =  0.0\n",
      "Epoch [122/300]\n",
      "Train loss: 0.0817\n",
      "Test loss: 0.0847\n",
      "Sparsity_Loss =  0.0\n",
      "Epoch [123/300]\n",
      "Train loss: 0.0815\n",
      "Test loss: 0.0846\n",
      "Sparsity_Loss =  0.0\n",
      "Epoch [124/300]\n",
      "Train loss: 0.0813\n",
      "Test loss: 0.0844\n",
      "Sparsity_Loss =  0.0\n",
      "Epoch [125/300]\n",
      "Train loss: 0.0811\n",
      "Test loss: 0.0844\n",
      "Sparsity_Loss =  0.0\n",
      "Epoch [126/300]\n",
      "Train loss: 0.0809\n",
      "Test loss: 0.0843\n",
      "Sparsity_Loss =  0.0\n",
      "Epoch [127/300]\n",
      "Train loss: 0.0807\n",
      "Test loss: 0.0843\n",
      "Sparsity_Loss =  0.0\n",
      "Epoch [128/300]\n",
      "Train loss: 0.0804\n",
      "Test loss: 0.0842\n",
      "Sparsity_Loss =  0.0\n",
      "Epoch [129/300]\n",
      "Train loss: 0.0804\n",
      "Test loss: 0.0841\n",
      "Sparsity_Loss =  0.0\n",
      "Epoch [130/300]\n",
      "Train loss: 0.0799\n",
      "Test loss: 0.0838\n",
      "Sparsity_Loss =  0.0\n",
      "Epoch [131/300]\n",
      "Train loss: 0.0800\n",
      "Test loss: 0.0840\n",
      "Sparsity_Loss =  0.0\n",
      "Epoch [132/300]\n",
      "Train loss: 0.0798\n",
      "Test loss: 0.0840\n",
      "Sparsity_Loss =  0.0\n",
      "Epoch [133/300]\n",
      "Train loss: 0.0795\n",
      "Test loss: 0.0839\n",
      "Sparsity_Loss =  0.0\n",
      "Epoch [134/300]\n",
      "Train loss: 0.0793\n",
      "Test loss: 0.0838\n",
      "Sparsity_Loss =  0.0\n",
      "Epoch [135/300]\n",
      "Train loss: 0.0792\n",
      "Test loss: 0.0837\n",
      "Sparsity_Loss =  0.0\n",
      "Epoch [136/300]\n",
      "Train loss: 0.0788\n",
      "Test loss: 0.0835\n",
      "Sparsity_Loss =  0.0\n",
      "Epoch [137/300]\n",
      "Train loss: 0.0787\n",
      "Test loss: 0.0835\n",
      "Sparsity_Loss =  0.0\n",
      "Epoch [138/300]\n",
      "Train loss: 0.0785\n",
      "Test loss: 0.0834\n",
      "Sparsity_Loss =  0.0\n",
      "Epoch [139/300]\n",
      "Train loss: 0.0782\n",
      "Test loss: 0.0832\n",
      "Sparsity_Loss =  0.0\n",
      "Epoch [140/300]\n",
      "Train loss: 0.0779\n",
      "Test loss: 0.0830\n",
      "Sparsity_Loss =  0.0\n",
      "Epoch [141/300]\n",
      "Train loss: 0.0773\n",
      "Test loss: 0.0827\n",
      "Sparsity_Loss =  0.0\n",
      "Epoch [142/300]\n",
      "Train loss: 0.0772\n",
      "Test loss: 0.0827\n",
      "Sparsity_Loss =  0.0\n",
      "Epoch [143/300]\n",
      "Train loss: 0.0771\n",
      "Test loss: 0.0827\n",
      "Sparsity_Loss =  0.0\n",
      "Epoch [144/300]\n",
      "Train loss: 0.0769\n",
      "Test loss: 0.0827\n",
      "Sparsity_Loss =  0.0\n",
      "Epoch [145/300]\n",
      "Train loss: 0.0769\n",
      "Test loss: 0.0827\n",
      "Sparsity_Loss =  0.0\n",
      "Epoch [146/300]\n",
      "Train loss: 0.0764\n",
      "Test loss: 0.0824\n",
      "Sparsity_Loss =  0.0\n",
      "Epoch [147/300]\n",
      "Train loss: 0.0762\n",
      "Test loss: 0.0824\n",
      "Sparsity_Loss =  0.0\n",
      "Epoch [148/300]\n",
      "Train loss: 0.0758\n",
      "Test loss: 0.0822\n",
      "Sparsity_Loss =  0.0\n",
      "Epoch [149/300]\n",
      "Train loss: 0.0753\n",
      "Test loss: 0.0818\n",
      "Sparsity_Loss =  0.0\n",
      "Epoch [150/300]\n",
      "Train loss: 0.0751\n",
      "Test loss: 0.0817\n",
      "Sparsity_Loss =  0.0\n",
      "Epoch [151/300]\n",
      "Train loss: 0.0749\n",
      "Test loss: 0.0816\n",
      "Sparsity_Loss =  0.0\n",
      "Epoch [152/300]\n",
      "Train loss: 0.0745\n",
      "Test loss: 0.0815\n",
      "Sparsity_Loss =  0.0\n",
      "Epoch [153/300]\n",
      "Train loss: 0.0743\n",
      "Test loss: 0.0814\n",
      "Sparsity_Loss =  0.0\n",
      "Epoch [154/300]\n",
      "Train loss: 0.0741\n",
      "Test loss: 0.0814\n",
      "Sparsity_Loss =  0.0\n",
      "Epoch [155/300]\n",
      "Train loss: 0.0740\n",
      "Test loss: 0.0816\n",
      "Sparsity_Loss =  0.0\n",
      "Epoch [156/300]\n",
      "Train loss: 0.0736\n",
      "Test loss: 0.0813\n",
      "Sparsity_Loss =  0.0\n",
      "Epoch [157/300]\n",
      "Train loss: 0.0730\n",
      "Test loss: 0.0808\n",
      "Sparsity_Loss =  0.0\n",
      "Epoch [158/300]\n",
      "Train loss: 0.0731\n",
      "Test loss: 0.0811\n",
      "Sparsity_Loss =  0.0\n",
      "Epoch [159/300]\n",
      "Train loss: 0.0725\n",
      "Test loss: 0.0809\n",
      "Sparsity_Loss =  0.0\n",
      "Epoch [160/300]\n",
      "Train loss: 0.0723\n",
      "Test loss: 0.0809\n",
      "Sparsity_Loss =  0.0\n",
      "Epoch [161/300]\n",
      "Train loss: 0.0720\n",
      "Test loss: 0.0806\n",
      "Sparsity_Loss =  0.0\n",
      "Epoch [162/300]\n",
      "Train loss: 0.0720\n",
      "Test loss: 0.0808\n",
      "Sparsity_Loss =  0.0\n",
      "Epoch [163/300]\n",
      "Train loss: 0.0714\n",
      "Test loss: 0.0807\n",
      "Sparsity_Loss =  0.0\n",
      "Epoch [164/300]\n",
      "Train loss: 0.0711\n",
      "Test loss: 0.0806\n",
      "Sparsity_Loss =  0.0\n",
      "Epoch [165/300]\n",
      "Train loss: 0.0704\n",
      "Test loss: 0.0802\n",
      "Sparsity_Loss =  0.0\n",
      "Epoch [166/300]\n",
      "Train loss: 0.0705\n",
      "Test loss: 0.0803\n",
      "Sparsity_Loss =  0.0\n",
      "Epoch [167/300]\n",
      "Train loss: 0.0702\n",
      "Test loss: 0.0802\n",
      "Sparsity_Loss =  0.0\n",
      "Epoch [168/300]\n",
      "Train loss: 0.0704\n",
      "Test loss: 0.0806\n",
      "Sparsity_Loss =  0.0\n",
      "Epoch [169/300]\n",
      "Train loss: 0.0699\n",
      "Test loss: 0.0804\n",
      "Sparsity_Loss =  0.0\n",
      "Epoch [170/300]\n",
      "Train loss: 0.0696\n",
      "Test loss: 0.0804\n",
      "Sparsity_Loss =  0.0\n",
      "Epoch [171/300]\n",
      "Train loss: 0.0702\n",
      "Test loss: 0.0812\n",
      "Sparsity_Loss =  0.0\n",
      "Epoch [172/300]\n",
      "Train loss: 0.0696\n",
      "Test loss: 0.0808\n",
      "Sparsity_Loss =  0.0\n",
      "Epoch [173/300]\n",
      "Train loss: 0.0689\n",
      "Test loss: 0.0804\n",
      "Sparsity_Loss =  0.0\n",
      "Epoch [174/300]\n",
      "Train loss: 0.0684\n",
      "Test loss: 0.0803\n",
      "Sparsity_Loss =  0.0\n",
      "Epoch [175/300]\n",
      "Train loss: 0.0680\n",
      "Test loss: 0.0803\n",
      "Sparsity_Loss =  0.0\n",
      "Epoch [176/300]\n",
      "Train loss: 0.0678\n",
      "Test loss: 0.0803\n",
      "Sparsity_Loss =  0.0\n",
      "Epoch [177/300]\n",
      "Train loss: 0.0677\n",
      "Test loss: 0.0804\n",
      "Sparsity_Loss =  0.0\n",
      "Epoch [178/300]\n",
      "Train loss: 0.0672\n",
      "Test loss: 0.0803\n",
      "Sparsity_Loss =  0.0\n",
      "Epoch [179/300]\n",
      "Train loss: 0.0668\n",
      "Test loss: 0.0803\n",
      "Sparsity_Loss =  0.0\n",
      "Epoch [180/300]\n",
      "Train loss: 0.0668\n",
      "Test loss: 0.0805\n",
      "Sparsity_Loss =  0.0\n",
      "Epoch [181/300]\n",
      "Train loss: 0.0663\n",
      "Test loss: 0.0804\n",
      "Sparsity_Loss =  0.0\n",
      "Epoch [182/300]\n",
      "Train loss: 0.0662\n",
      "Test loss: 0.0805\n",
      "Sparsity_Loss =  0.0\n",
      "Epoch [183/300]\n",
      "Train loss: 0.0657\n",
      "Test loss: 0.0803\n",
      "Sparsity_Loss =  0.0\n",
      "Epoch [184/300]\n",
      "Train loss: 0.0654\n",
      "Test loss: 0.0802\n",
      "Sparsity_Loss =  0.0\n",
      "Epoch [185/300]\n",
      "Train loss: 0.0654\n",
      "Test loss: 0.0805\n",
      "Sparsity_Loss =  0.0\n",
      "Epoch [186/300]\n",
      "Train loss: 0.0658\n",
      "Test loss: 0.0810\n",
      "Sparsity_Loss =  0.0\n",
      "Epoch [187/300]\n",
      "Train loss: 0.0649\n",
      "Test loss: 0.0807\n",
      "Sparsity_Loss =  0.0\n",
      "Epoch [188/300]\n",
      "Train loss: 0.0655\n",
      "Test loss: 0.0812\n",
      "Sparsity_Loss =  0.0\n",
      "Epoch [189/300]\n",
      "Train loss: 0.0643\n",
      "Test loss: 0.0805\n",
      "Sparsity_Loss =  0.0\n",
      "Epoch [190/300]\n",
      "Train loss: 0.0638\n",
      "Test loss: 0.0803\n",
      "Sparsity_Loss =  0.0\n",
      "Epoch [191/300]\n",
      "Train loss: 0.0643\n",
      "Test loss: 0.0810\n",
      "Sparsity_Loss =  0.0\n",
      "Epoch [192/300]\n",
      "Train loss: 0.0645\n",
      "Test loss: 0.0816\n",
      "Sparsity_Loss =  0.0\n",
      "Epoch [193/300]\n",
      "Train loss: 0.0640\n",
      "Test loss: 0.0816\n",
      "Sparsity_Loss =  0.0\n",
      "Epoch [194/300]\n",
      "Train loss: 0.0633\n",
      "Test loss: 0.0810\n",
      "Sparsity_Loss =  0.0\n",
      "Epoch [195/300]\n",
      "Train loss: 0.0636\n",
      "Test loss: 0.0811\n",
      "Sparsity_Loss =  0.0\n",
      "Epoch [196/300]\n",
      "Train loss: 0.0634\n",
      "Test loss: 0.0814\n",
      "Sparsity_Loss =  0.0\n",
      "Epoch [197/300]\n",
      "Train loss: 0.0633\n",
      "Test loss: 0.0819\n",
      "Sparsity_Loss =  0.0\n",
      "Epoch [198/300]\n",
      "Train loss: 0.0644\n",
      "Test loss: 0.0829\n",
      "Sparsity_Loss =  0.0\n",
      "Epoch [199/300]\n",
      "Train loss: 0.0632\n",
      "Test loss: 0.0816\n",
      "Sparsity_Loss =  0.0\n",
      "Epoch [200/300]\n",
      "Train loss: 0.0626\n",
      "Test loss: 0.0806\n",
      "Sparsity_Loss =  0.0\n",
      "Epoch [201/300]\n",
      "Train loss: 0.0699\n",
      "Test loss: 0.0856\n",
      "Sparsity_Loss =  0.0\n",
      "Epoch [202/300]\n",
      "Train loss: 0.0640\n",
      "Test loss: 0.0811\n",
      "Sparsity_Loss =  0.0\n",
      "Epoch [203/300]\n",
      "Train loss: 0.0633\n",
      "Test loss: 0.0805\n",
      "Sparsity_Loss =  0.0\n",
      "Epoch [204/300]\n",
      "Train loss: 0.0633\n",
      "Test loss: 0.0806\n",
      "Sparsity_Loss =  0.0\n",
      "Epoch [205/300]\n",
      "Train loss: 0.0638\n",
      "Test loss: 0.0808\n",
      "Sparsity_Loss =  0.0\n",
      "Epoch [206/300]\n",
      "Train loss: 0.0609\n",
      "Test loss: 0.0795\n",
      "Sparsity_Loss =  0.0\n",
      "Epoch [207/300]\n",
      "Train loss: 0.0598\n",
      "Test loss: 0.0796\n",
      "Sparsity_Loss =  0.0\n",
      "Epoch [208/300]\n",
      "Train loss: 0.0595\n",
      "Test loss: 0.0797\n",
      "Sparsity_Loss =  0.0\n",
      "Epoch [209/300]\n",
      "Train loss: 0.0593\n",
      "Test loss: 0.0799\n",
      "Sparsity_Loss =  0.0\n",
      "Epoch [210/300]\n",
      "Train loss: 0.0583\n",
      "Test loss: 0.0800\n",
      "Sparsity_Loss =  0.0\n",
      "Epoch [211/300]\n",
      "Train loss: 0.0579\n",
      "Test loss: 0.0800\n",
      "Sparsity_Loss =  0.0\n",
      "Epoch [212/300]\n",
      "Train loss: 0.0576\n",
      "Test loss: 0.0799\n",
      "Sparsity_Loss =  0.0\n",
      "Epoch [213/300]\n",
      "Train loss: 0.0574\n",
      "Test loss: 0.0801\n",
      "Sparsity_Loss =  0.0\n",
      "Epoch [214/300]\n",
      "Train loss: 0.0585\n",
      "Test loss: 0.0808\n",
      "Sparsity_Loss =  0.0\n",
      "Epoch [215/300]\n",
      "Train loss: 0.0614\n",
      "Test loss: 0.0826\n",
      "Sparsity_Loss =  0.0\n",
      "Epoch [216/300]\n",
      "Train loss: 0.0582\n",
      "Test loss: 0.0806\n",
      "Sparsity_Loss =  0.0\n",
      "Epoch [217/300]\n",
      "Train loss: 0.0584\n",
      "Test loss: 0.0812\n",
      "Sparsity_Loss =  0.0\n",
      "Epoch [218/300]\n",
      "Train loss: 0.0572\n",
      "Test loss: 0.0810\n",
      "Sparsity_Loss =  0.0\n",
      "Epoch [219/300]\n",
      "Train loss: 0.0569\n",
      "Test loss: 0.0806\n",
      "Sparsity_Loss =  0.0\n",
      "Epoch [220/300]\n",
      "Train loss: 0.0566\n",
      "Test loss: 0.0805\n",
      "Sparsity_Loss =  0.0\n",
      "Epoch [221/300]\n",
      "Train loss: 0.0553\n",
      "Test loss: 0.0803\n",
      "Sparsity_Loss =  0.0\n",
      "Epoch [222/300]\n",
      "Train loss: 0.0558\n",
      "Test loss: 0.0810\n",
      "Sparsity_Loss =  0.0\n",
      "Epoch [223/300]\n",
      "Train loss: 0.0556\n",
      "Test loss: 0.0810\n"
     ]
    },
    {
     "name": "stdout",
     "output_type": "stream",
     "text": [
      "Sparsity_Loss =  0.0\n",
      "Epoch [224/300]\n",
      "Train loss: 0.0553\n",
      "Test loss: 0.0811\n",
      "Sparsity_Loss =  0.0\n",
      "Epoch [225/300]\n",
      "Train loss: 0.0557\n",
      "Test loss: 0.0814\n",
      "Sparsity_Loss =  0.0\n",
      "Epoch [226/300]\n",
      "Train loss: 0.0555\n",
      "Test loss: 0.0815\n",
      "Sparsity_Loss =  0.0\n",
      "Epoch [227/300]\n",
      "Train loss: 0.0550\n",
      "Test loss: 0.0814\n",
      "Sparsity_Loss =  0.0\n",
      "Epoch [228/300]\n",
      "Train loss: 0.0569\n",
      "Test loss: 0.0827\n",
      "Sparsity_Loss =  0.0\n",
      "Epoch [229/300]\n",
      "Train loss: 0.0560\n",
      "Test loss: 0.0825\n",
      "Sparsity_Loss =  0.0\n",
      "Epoch [230/300]\n",
      "Train loss: 0.0538\n",
      "Test loss: 0.0807\n",
      "Sparsity_Loss =  0.0\n",
      "Epoch [231/300]\n",
      "Train loss: 0.0556\n",
      "Test loss: 0.0818\n",
      "Sparsity_Loss =  0.0\n",
      "Epoch [232/300]\n",
      "Train loss: 0.0544\n",
      "Test loss: 0.0818\n",
      "Sparsity_Loss =  0.0\n",
      "Epoch [233/300]\n",
      "Train loss: 0.0538\n",
      "Test loss: 0.0820\n",
      "Sparsity_Loss =  0.0\n",
      "Epoch [234/300]\n",
      "Train loss: 0.0524\n",
      "Test loss: 0.0814\n",
      "Sparsity_Loss =  0.0\n",
      "Epoch [235/300]\n",
      "Train loss: 0.0523\n",
      "Test loss: 0.0811\n",
      "Sparsity_Loss =  0.0\n",
      "Epoch [236/300]\n",
      "Train loss: 0.0530\n",
      "Test loss: 0.0818\n",
      "Sparsity_Loss =  0.0\n",
      "Epoch [237/300]\n",
      "Train loss: 0.0523\n",
      "Test loss: 0.0819\n",
      "Sparsity_Loss =  0.0\n",
      "Epoch [238/300]\n",
      "Train loss: 0.0518\n",
      "Test loss: 0.0819\n",
      "Sparsity_Loss =  0.0\n",
      "Epoch [239/300]\n",
      "Train loss: 0.0519\n",
      "Test loss: 0.0824\n",
      "Sparsity_Loss =  0.0\n",
      "Epoch [240/300]\n",
      "Train loss: 0.0521\n",
      "Test loss: 0.0826\n",
      "Sparsity_Loss =  0.0\n",
      "Epoch [241/300]\n",
      "Train loss: 0.0522\n",
      "Test loss: 0.0827\n",
      "Sparsity_Loss =  0.0\n",
      "Epoch [242/300]\n",
      "Train loss: 0.0525\n",
      "Test loss: 0.0830\n",
      "Sparsity_Loss =  0.0\n",
      "Epoch [243/300]\n",
      "Train loss: 0.0516\n",
      "Test loss: 0.0831\n",
      "Sparsity_Loss =  0.0\n",
      "Epoch [244/300]\n",
      "Train loss: 0.0524\n",
      "Test loss: 0.0836\n",
      "Sparsity_Loss =  0.0\n",
      "Epoch [245/300]\n",
      "Train loss: 0.0519\n",
      "Test loss: 0.0831\n",
      "Sparsity_Loss =  0.0\n",
      "Epoch [246/300]\n",
      "Train loss: 0.0501\n",
      "Test loss: 0.0822\n",
      "Sparsity_Loss =  0.0\n",
      "Epoch [247/300]\n",
      "Train loss: 0.0508\n",
      "Test loss: 0.0828\n",
      "Sparsity_Loss =  0.0\n",
      "Epoch [248/300]\n",
      "Train loss: 0.0499\n",
      "Test loss: 0.0824\n",
      "Sparsity_Loss =  0.0\n",
      "Epoch [249/300]\n",
      "Train loss: 0.0495\n",
      "Test loss: 0.0826\n",
      "Sparsity_Loss =  0.0\n",
      "Epoch [250/300]\n",
      "Train loss: 0.0492\n",
      "Test loss: 0.0831\n",
      "Sparsity_Loss =  0.0\n",
      "Epoch [251/300]\n",
      "Train loss: 0.0490\n",
      "Test loss: 0.0834\n",
      "Sparsity_Loss =  0.0\n",
      "Epoch [252/300]\n",
      "Train loss: 0.0484\n",
      "Test loss: 0.0831\n",
      "Sparsity_Loss =  0.0\n",
      "Epoch [253/300]\n",
      "Train loss: 0.0490\n",
      "Test loss: 0.0834\n",
      "Sparsity_Loss =  0.0\n",
      "Epoch [254/300]\n",
      "Train loss: 0.0490\n",
      "Test loss: 0.0839\n",
      "Sparsity_Loss =  0.0\n",
      "Epoch [255/300]\n",
      "Train loss: 0.0496\n",
      "Test loss: 0.0849\n",
      "Sparsity_Loss =  0.0\n",
      "Epoch [256/300]\n",
      "Train loss: 0.0492\n",
      "Test loss: 0.0847\n",
      "Sparsity_Loss =  0.0\n",
      "Epoch [257/300]\n",
      "Train loss: 0.0484\n",
      "Test loss: 0.0837\n",
      "Sparsity_Loss =  0.0\n",
      "Epoch [258/300]\n",
      "Train loss: 0.0483\n",
      "Test loss: 0.0838\n",
      "Sparsity_Loss =  0.0\n",
      "Epoch [259/300]\n",
      "Train loss: 0.0506\n",
      "Test loss: 0.0849\n",
      "Sparsity_Loss =  0.0\n",
      "Epoch [260/300]\n",
      "Train loss: 0.0476\n",
      "Test loss: 0.0834\n",
      "Sparsity_Loss =  0.0\n",
      "Epoch [261/300]\n",
      "Train loss: 0.0480\n",
      "Test loss: 0.0842\n",
      "Sparsity_Loss =  0.0\n",
      "Epoch [262/300]\n",
      "Train loss: 0.0477\n",
      "Test loss: 0.0847\n",
      "Sparsity_Loss =  0.0\n",
      "Epoch [263/300]\n",
      "Train loss: 0.0474\n",
      "Test loss: 0.0850\n",
      "Sparsity_Loss =  0.0\n",
      "Epoch [264/300]\n",
      "Train loss: 0.0478\n",
      "Test loss: 0.0848\n",
      "Sparsity_Loss =  0.0\n",
      "Epoch [265/300]\n",
      "Train loss: 0.0473\n",
      "Test loss: 0.0842\n",
      "Sparsity_Loss =  0.0\n",
      "Epoch [266/300]\n",
      "Train loss: 0.0467\n",
      "Test loss: 0.0843\n",
      "Sparsity_Loss =  0.0\n",
      "Epoch [267/300]\n",
      "Train loss: 0.0491\n",
      "Test loss: 0.0859\n",
      "Sparsity_Loss =  0.0\n",
      "Epoch [268/300]\n",
      "Train loss: 0.0493\n",
      "Test loss: 0.0861\n",
      "Sparsity_Loss =  0.0\n",
      "Epoch [269/300]\n",
      "Train loss: 0.0462\n",
      "Test loss: 0.0841\n",
      "Sparsity_Loss =  0.0\n",
      "Epoch [270/300]\n",
      "Train loss: 0.0464\n",
      "Test loss: 0.0847\n",
      "Sparsity_Loss =  0.0\n",
      "Epoch [271/300]\n",
      "Train loss: 0.0470\n",
      "Test loss: 0.0853\n",
      "Sparsity_Loss =  0.0\n",
      "Epoch [272/300]\n",
      "Train loss: 0.0461\n",
      "Test loss: 0.0852\n",
      "Sparsity_Loss =  0.0\n",
      "Epoch [273/300]\n",
      "Train loss: 0.0458\n",
      "Test loss: 0.0855\n",
      "Sparsity_Loss =  0.0\n",
      "Epoch [274/300]\n",
      "Train loss: 0.0459\n",
      "Test loss: 0.0852\n",
      "Sparsity_Loss =  0.0\n",
      "Epoch [275/300]\n",
      "Train loss: 0.0456\n",
      "Test loss: 0.0852\n",
      "Sparsity_Loss =  0.0\n",
      "Epoch [276/300]\n",
      "Train loss: 0.0449\n",
      "Test loss: 0.0851\n",
      "Sparsity_Loss =  0.0\n",
      "Epoch [277/300]\n",
      "Train loss: 0.0445\n",
      "Test loss: 0.0850\n",
      "Sparsity_Loss =  0.0\n",
      "Epoch [278/300]\n",
      "Train loss: 0.0471\n",
      "Test loss: 0.0867\n",
      "Sparsity_Loss =  0.0\n",
      "Epoch [279/300]\n",
      "Train loss: 0.0460\n",
      "Test loss: 0.0863\n",
      "Sparsity_Loss =  0.0\n",
      "Epoch [280/300]\n",
      "Train loss: 0.0438\n",
      "Test loss: 0.0852\n",
      "Sparsity_Loss =  0.0\n",
      "Epoch [281/300]\n",
      "Train loss: 0.0452\n",
      "Test loss: 0.0860\n",
      "Sparsity_Loss =  0.0\n",
      "Epoch [282/300]\n",
      "Train loss: 0.0442\n",
      "Test loss: 0.0859\n",
      "Sparsity_Loss =  0.0\n",
      "Epoch [283/300]\n",
      "Train loss: 0.0437\n",
      "Test loss: 0.0861\n",
      "Sparsity_Loss =  0.0\n",
      "Epoch [284/300]\n",
      "Train loss: 0.0441\n",
      "Test loss: 0.0867\n",
      "Sparsity_Loss =  0.0\n",
      "Epoch [285/300]\n",
      "Train loss: 0.0428\n",
      "Test loss: 0.0861\n",
      "Sparsity_Loss =  0.0\n",
      "Epoch [286/300]\n",
      "Train loss: 0.0422\n",
      "Test loss: 0.0861\n",
      "Sparsity_Loss =  0.0\n",
      "Epoch [287/300]\n",
      "Train loss: 0.0437\n",
      "Test loss: 0.0871\n",
      "Sparsity_Loss =  0.0\n",
      "Epoch [288/300]\n",
      "Train loss: 0.0447\n",
      "Test loss: 0.0877\n",
      "Sparsity_Loss =  0.0\n",
      "Epoch [289/300]\n",
      "Train loss: 0.0429\n",
      "Test loss: 0.0867\n",
      "Sparsity_Loss =  0.0\n",
      "Epoch [290/300]\n",
      "Train loss: 0.0431\n",
      "Test loss: 0.0869\n",
      "Sparsity_Loss =  0.0\n",
      "Epoch [291/300]\n",
      "Train loss: 0.0429\n",
      "Test loss: 0.0873\n",
      "Sparsity_Loss =  0.0\n",
      "Epoch [292/300]\n",
      "Train loss: 0.0433\n",
      "Test loss: 0.0875\n",
      "Sparsity_Loss =  0.0\n",
      "Epoch [293/300]\n",
      "Train loss: 0.0439\n",
      "Test loss: 0.0876\n",
      "Sparsity_Loss =  0.0\n",
      "Epoch [294/300]\n",
      "Train loss: 0.0416\n",
      "Test loss: 0.0865\n",
      "Sparsity_Loss =  0.0\n",
      "Epoch [295/300]\n",
      "Train loss: 0.0417\n",
      "Test loss: 0.0873\n",
      "Sparsity_Loss =  0.0\n",
      "Epoch [296/300]\n",
      "Train loss: 0.0423\n",
      "Test loss: 0.0881\n",
      "Sparsity_Loss =  0.0\n",
      "Epoch [297/300]\n",
      "Train loss: 0.0419\n",
      "Test loss: 0.0880\n",
      "Sparsity_Loss =  0.0\n",
      "Epoch [298/300]\n",
      "Train loss: 0.0411\n",
      "Test loss: 0.0877\n",
      "Sparsity_Loss =  0.0\n",
      "Epoch [299/300]\n",
      "Train loss: 0.0404\n",
      "Test loss: 0.0871\n",
      "Sparsity_Loss =  0.0\n",
      "Epoch [300/300]\n",
      "Train loss: 0.0414\n",
      "Test loss: 0.0879\n",
      "Test loss: 0.0879\n"
     ]
    }
   ],
   "source": [
    "# use GPU if available\n",
    "device = torch.device(\"cuda\" if torch.cuda.is_available() else \"cpu\")\n",
    "print(f\"Using {device} device\")\n",
    "# Instantiate the model\n",
    "model = Autoencoder(5)\n",
    "\n",
    "# Choose a loss function (e.g., Mean Squared Error) and an optimizer (e.g., Adam)\n",
    "# use cross entropy loss for classification\n",
    "# cross_entropy = nn.CrossEntropyLoss()\n",
    "criterion = nn.MSELoss()\n",
    "optimizer = optim.Adam(model.parameters(), lr=0.001)\n",
    "\n",
    "# Training loop\n",
    "num_epochs = 300\n",
    "train_loss = []\n",
    "test_loss = []\n",
    "for epoch in range(num_epochs):\n",
    "\n",
    "    # train in batch\n",
    "    batch_size = 128\n",
    "    for i in range(0, len(train_set), batch_size):\n",
    "        batch = train_set[i:i+batch_size]\n",
    "        outputs = model(batch)\n",
    "        reconstruction_loss = criterion(outputs, batch)\n",
    "        sparsity_loss = 0.0000 * model.l1_regularization()\n",
    "        loss = reconstruction_loss + sparsity_loss\n",
    "        optimizer.zero_grad()\n",
    "        loss.backward()\n",
    "        optimizer.step()\n",
    "    # # Forward pass\n",
    "    # outputs = model(train_set.dataset[train_set.indices])\n",
    "    # loss = criterion(outputs, train_set.dataset[train_set.indices])\n",
    "\n",
    "    # # Backward pass and optimization\n",
    "    # optimizer.zero_grad()\n",
    "    # loss.backward()\n",
    "    # optimizer.step()\n",
    "\n",
    "    # Print progress\n",
    "    with torch.no_grad():\n",
    "        print(\"Sparsity_Loss = \", sparsity_loss.item())\n",
    "        outputs = model(train_set.dataset[train_set.indices])\n",
    "        train_loss_ = criterion(outputs, train_set.dataset[train_set.indices])\n",
    "        print(f'Epoch [{epoch + 1}/{num_epochs}]')\n",
    "        print(f'Train loss: {train_loss_.item():.4f}')\n",
    "        outputs = model(test_set.dataset[test_set.indices])\n",
    "        test_loss_ = criterion(outputs, test_set.dataset[test_set.indices])\n",
    "        print(f'Test loss: {test_loss_.item():.4f}')\n",
    "\n",
    "    # save test loss and rain loss in lists\n",
    "    train_loss.append(train_loss_.item())\n",
    "    test_loss.append(test_loss_.item())\n",
    "\n",
    "# Test the model\n",
    "with torch.no_grad():\n",
    "    outputs = model(test_set.dataset[test_set.indices])\n",
    "    loss = criterion(outputs, test_set.dataset[test_set.indices])\n",
    "    print(f'Test loss: {loss.item():.4f}')"
   ]
  },
  {
   "cell_type": "code",
   "execution_count": 13,
   "id": "a08e9b09",
   "metadata": {},
   "outputs": [
    {
     "data": {
      "text/plain": [
       "<matplotlib.legend.Legend at 0x7f1ba9053370>"
      ]
     },
     "execution_count": 13,
     "metadata": {},
     "output_type": "execute_result"
    },
    {
     "data": {
      "image/png": "[encoded data removed]",
      "text/plain": [
       "<Figure size 432x288 with 1 Axes>"
      ]
     },
     "metadata": {
      "needs_background": "light"
     },
     "output_type": "display_data"
    }
   ],
   "source": [
    "# plot train and test loss\n",
    "plt.plot(train_loss, label=\"train loss\")\n",
    "plt.plot(test_loss, label=\"test loss\")\n",
    "\n",
    "plt.legend()"
   ]
  },
  {
   "cell_type": "code",
   "execution_count": 14,
   "id": "e2a1ef33",
   "metadata": {},
   "outputs": [
    {
     "name": "stdout",
     "output_type": "stream",
     "text": [
      "random sequence index:  249\n"
     ]
    },
    {
     "data": {
      "image/png": "[encoded data removed]",
      "text/plain": [
       "<Figure size 720x360 with 2 Axes>"
      ]
     },
     "metadata": {
      "needs_background": "light"
     },
     "output_type": "display_data"
    }
   ],
   "source": [
    "with torch.no_grad():\n",
    "    outputs = model(train_set.dataset[train_set.indices])\n",
    "#visualize the results for a random sequence\n",
    "rand_seq = np.random.randint(0, len(train_set.indices))\n",
    "print(\"random sequence index: \", rand_seq)\n",
    "plt.figure(figsize=(10, 5))\n",
    "plt.subplot(1, 2, 1)\n",
    "plt.imshow(train_set.dataset[train_set.indices][rand_seq])\n",
    "plt.title(\"original\")\n",
    "plt.subplot(1, 2, 2)\n",
    "plt.imshow(outputs[rand_seq])\n",
    "plt.title(\"reconstructed\")\n",
    "plt.show()"
   ]
  },
  {
   "cell_type": "code",
   "execution_count": null,
   "id": "dd9703e2",
   "metadata": {},
   "outputs": [],
   "source": []
  },
  {
   "cell_type": "code",
   "execution_count": 95,
   "id": "d4c49b80",
   "metadata": {},
   "outputs": [
    {
     "name": "stdout",
     "output_type": "stream",
     "text": [
      "random sequence index:  52\n"
     ]
    },
    {
     "data": {
      "image/png": "[encoded data removed]",
      "text/plain": [
       "<Figure size 720x360 with 2 Axes>"
      ]
     },
     "metadata": {
      "needs_background": "light"
     },
     "output_type": "display_data"
    }
   ],
   "source": [
    "#visualize the results for a random sequence\n",
    "with torch.no_grad():\n",
    "    outputs = model(test_set.dataset[test_set.indices])\n",
    "rand_seq = np.random.randint(0, len(test_set.indices))\n",
    "print(\"random sequence index: \", rand_seq)\n",
    "plt.figure(figsize=(10, 5))\n",
    "plt.subplot(1, 2, 1)\n",
    "plt.imshow(test_set.dataset[test_set.indices][rand_seq])\n",
    "plt.title(\"original\")\n",
    "plt.subplot(1, 2, 2)\n",
    "plt.imshow(outputs[rand_seq])\n",
    "plt.title(\"reconstructed\")\n",
    "plt.show()"
   ]
  },
  {
   "cell_type": "code",
   "execution_count": 489,
   "id": "797a1723",
   "metadata": {},
   "outputs": [
    {
     "data": {
      "text/plain": [
       "711"
      ]
     },
     "execution_count": 489,
     "metadata": {},
     "output_type": "execute_result"
    }
   ],
   "source": [
    "color_map = {\"splicing\": 1, \"3UTR\":0}\n",
    "labels = [color_map[i] for i in non_redundant_labels_balanced]\n",
    "len(labels)\n"
   ]
  },
  {
   "cell_type": "code",
   "execution_count": 494,
   "id": "874b4286",
   "metadata": {},
   "outputs": [
    {
     "data": {
      "image/png": "[encoded data removed]",
      "text/plain": [
       "<Figure size 432x288 with 1 Axes>"
      ]
     },
     "metadata": {
      "needs_background": "light"
     },
     "output_type": "display_data"
    },
    {
     "data": {
      "image/png": "[encoded data removed]",
      "text/plain": [
       "<Figure size 432x288 with 1 Axes>"
      ]
     },
     "metadata": {
      "needs_background": "light"
     },
     "output_type": "display_data"
    }
   ],
   "source": [
    "pca = PCA(n_components=2)\n",
    "with torch.no_grad():\n",
    "    outputs = input_seqs.flatten(start_dim=1).cpu()\n",
    "    # scale the data using standard scaler\n",
    "    scaler = StandardScaler()\n",
    "    outputs = scaler.fit_transform(outputs)\n",
    "    outputs = pca.fit_transform(outputs)\n",
    "    plt.scatter(outputs[:,0], outputs[:,1], c = labels, alpha=0.5)\n",
    "    plt.show()\n",
    "\n",
    "# perform umap on raw data\n",
    "reducer = umap.UMAP()\n",
    "with torch.no_grad():\n",
    "    outputs = input_seqs.flatten(start_dim=1)\n",
    "    outputs = scaler.fit_transform(outputs)\n",
    "    outputs = reducer.fit_transform(outputs)\n",
    "    plt.scatter(outputs[:,0], outputs[:,1], c = labels, alpha=0.5)\n",
    "    plt.show()"
   ]
  },
  {
   "cell_type": "code",
   "execution_count": 487,
   "id": "822e77b3",
   "metadata": {},
   "outputs": [
    {
     "ename": "AttributeError",
     "evalue": "'CNN' object has no attribute 'encode'",
     "output_type": "error",
     "traceback": [
      "\u001b[0;31m---------------------------------------------------------------------------\u001b[0m",
      "\u001b[0;31mAttributeError\u001b[0m                            Traceback (most recent call last)",
      "\u001b[0;32m/tmp/ipykernel_100814/2336485511.py\u001b[0m in \u001b[0;36m<module>\u001b[0;34m\u001b[0m\n\u001b[1;32m      2\u001b[0m \u001b[0mpca\u001b[0m \u001b[0;34m=\u001b[0m \u001b[0mPCA\u001b[0m\u001b[0;34m(\u001b[0m\u001b[0mn_components\u001b[0m\u001b[0;34m=\u001b[0m\u001b[0;36m2\u001b[0m\u001b[0;34m)\u001b[0m\u001b[0;34m\u001b[0m\u001b[0;34m\u001b[0m\u001b[0m\n\u001b[1;32m      3\u001b[0m \u001b[0;32mwith\u001b[0m \u001b[0mtorch\u001b[0m\u001b[0;34m.\u001b[0m\u001b[0mno_grad\u001b[0m\u001b[0;34m(\u001b[0m\u001b[0;34m)\u001b[0m\u001b[0;34m:\u001b[0m\u001b[0;34m\u001b[0m\u001b[0;34m\u001b[0m\u001b[0m\n\u001b[0;32m----> 4\u001b[0;31m     \u001b[0moutputs\u001b[0m \u001b[0;34m=\u001b[0m \u001b[0mmodel\u001b[0m\u001b[0;34m.\u001b[0m\u001b[0mencode\u001b[0m\u001b[0;34m(\u001b[0m\u001b[0minput_seqs\u001b[0m\u001b[0;34m)\u001b[0m\u001b[0;34m\u001b[0m\u001b[0;34m\u001b[0m\u001b[0m\n\u001b[0m\u001b[1;32m      5\u001b[0m     \u001b[0moutputs\u001b[0m \u001b[0;34m=\u001b[0m \u001b[0moutputs\u001b[0m\u001b[0;34m.\u001b[0m\u001b[0mnumpy\u001b[0m\u001b[0;34m(\u001b[0m\u001b[0;34m)\u001b[0m\u001b[0;34m\u001b[0m\u001b[0;34m\u001b[0m\u001b[0m\n\u001b[1;32m      6\u001b[0m     \u001b[0moutputs\u001b[0m \u001b[0;34m=\u001b[0m \u001b[0mpca\u001b[0m\u001b[0;34m.\u001b[0m\u001b[0mfit_transform\u001b[0m\u001b[0;34m(\u001b[0m\u001b[0moutputs\u001b[0m\u001b[0;34m)\u001b[0m\u001b[0;34m\u001b[0m\u001b[0;34m\u001b[0m\u001b[0m\n",
      "\u001b[0;32m~/.local/lib/python3.9/site-packages/torch/nn/modules/module.py\u001b[0m in \u001b[0;36m__getattr__\u001b[0;34m(self, name)\u001b[0m\n\u001b[1;32m   1686\u001b[0m             \u001b[0;32mif\u001b[0m \u001b[0mname\u001b[0m \u001b[0;32min\u001b[0m \u001b[0mmodules\u001b[0m\u001b[0;34m:\u001b[0m\u001b[0;34m\u001b[0m\u001b[0;34m\u001b[0m\u001b[0m\n\u001b[1;32m   1687\u001b[0m                 \u001b[0;32mreturn\u001b[0m \u001b[0mmodules\u001b[0m\u001b[0;34m[\u001b[0m\u001b[0mname\u001b[0m\u001b[0;34m]\u001b[0m\u001b[0;34m\u001b[0m\u001b[0;34m\u001b[0m\u001b[0m\n\u001b[0;32m-> 1688\u001b[0;31m         \u001b[0;32mraise\u001b[0m \u001b[0mAttributeError\u001b[0m\u001b[0;34m(\u001b[0m\u001b[0;34mf\"'{type(self).__name__}' object has no attribute '{name}'\"\u001b[0m\u001b[0;34m)\u001b[0m\u001b[0;34m\u001b[0m\u001b[0;34m\u001b[0m\u001b[0m\n\u001b[0m\u001b[1;32m   1689\u001b[0m \u001b[0;34m\u001b[0m\u001b[0m\n\u001b[1;32m   1690\u001b[0m     \u001b[0;32mdef\u001b[0m \u001b[0m__setattr__\u001b[0m\u001b[0;34m(\u001b[0m\u001b[0mself\u001b[0m\u001b[0;34m,\u001b[0m \u001b[0mname\u001b[0m\u001b[0;34m:\u001b[0m \u001b[0mstr\u001b[0m\u001b[0;34m,\u001b[0m \u001b[0mvalue\u001b[0m\u001b[0;34m:\u001b[0m \u001b[0mUnion\u001b[0m\u001b[0;34m[\u001b[0m\u001b[0mTensor\u001b[0m\u001b[0;34m,\u001b[0m \u001b[0;34m'Module'\u001b[0m\u001b[0;34m]\u001b[0m\u001b[0;34m)\u001b[0m \u001b[0;34m->\u001b[0m \u001b[0;32mNone\u001b[0m\u001b[0;34m:\u001b[0m\u001b[0;34m\u001b[0m\u001b[0;34m\u001b[0m\u001b[0m\n",
      "\u001b[0;31mAttributeError\u001b[0m: 'CNN' object has no attribute 'encode'"
     ]
    }
   ],
   "source": [
    "# perform pca on the bottleneck layer\n",
    "pca = PCA(n_components=2)\n",
    "with torch.no_grad():\n",
    "    outputs = model.encode(input_seqs)\n",
    "    outputs = outputs.numpy()\n",
    "    outputs = pca.fit_transform(outputs)\n",
    "    scaler = StandardScaler()\n",
    "    outputs = scaler.fit_transform(outputs)\n",
    "    plt.scatter(outputs[:,0], outputs[:,1], c = labels, alpha=0.5)\n",
    "    plt.show()\n",
    "reducer = umap.UMAP()\n",
    "with torch.no_grad():\n",
    "    outputs = model.encode(input_seqs)\n",
    "    outputs = reducer.fit_transform(outputs)\n",
    "    plt.scatter(outputs[:,0], outputs[:,1], c = labels, alpha=0.5)\n",
    "    plt.show()"
   ]
  },
  {
   "cell_type": "code",
   "execution_count": 464,
   "id": "c8726532",
   "metadata": {},
   "outputs": [
    {
     "data": {
      "text/plain": [
       "{0: '3UTR', 1: 'splicing'}"
      ]
     },
     "execution_count": 464,
     "metadata": {},
     "output_type": "execute_result"
    }
   ],
   "source": [
    "label_encoder = LabelEncoder()\n",
    "label_encoded = label_encoder.fit_transform(non_redundant_labels_balanced)\n",
    "labels_tensor = torch.tensor(label_encoded).long()\n",
    "label_mapping = dict(zip(label_encoder.transform(label_encoder.classes_), label_encoder.classes_))\n",
    "label_mapping"
   ]
  },
  {
   "cell_type": "code",
   "execution_count": 465,
   "id": "66964f2a",
   "metadata": {},
   "outputs": [],
   "source": [
    "from neural import CNN"
   ]
  },
  {
   "cell_type": "code",
   "execution_count": 466,
   "id": "0829d7ea",
   "metadata": {},
   "outputs": [
    {
     "name": "stdout",
     "output_type": "stream",
     "text": [
      "CUDA is available.\n",
      "Number of available GPUs: 1\n",
      "CUDA device name: Tesla V100-PCIE-32GB\n",
      "CUDA version: 12.1\n"
     ]
    }
   ],
   "source": [
    "if torch.cuda.is_available():\n",
    "    print(\"CUDA is available.\")\n",
    "    print(\"Number of available GPUs:\", torch.cuda.device_count())\n",
    "    print(\"CUDA device name:\", torch.cuda.get_device_name(0))  # Get name of the first GPU\n",
    "    print(\"CUDA version:\", torch.version.cuda)\n",
    "    device = torch.device(\"cuda\")\n",
    "\n",
    "else:\n",
    "    print(\"CUDA is not available.\")\n",
    "    device = torch.device(\"cpu\")"
   ]
  },
  {
   "cell_type": "code",
   "execution_count": 467,
   "id": "cd481bb2",
   "metadata": {},
   "outputs": [],
   "source": [
    "# X = torch.from_numpy(X).float()\n",
    "X = input_seqs.to(device)\n",
    "y = labels_tensor.to(device)\n",
    "\n",
    "num_channels = X.shape[1]\n",
    "num_classes = len(label_encoder.classes_)\n",
    "max_lengh = X.shape[-1]\n",
    "\n",
    "dataset = torch.utils.data.TensorDataset(X, y)\n",
    "\n",
    "#split train, test, val\n",
    "train_size = int(0.8 * len(dataset))\n",
    "test_size = int(0.1 * len(dataset))\n",
    "val_size = len(dataset) - train_size - test_size\n",
    "torch.manual_seed(1809)\n",
    "train_dataset, test_dataset, val_dataset = \\\n",
    "    torch.utils.data.random_split(dataset, [train_size, test_size, val_size])\n",
    "\n",
    "# create a dataloader\n",
    "batch_size = 32\n",
    "train_dataloader = torch.utils.data.DataLoader(train_dataset, batch_size, shuffle=False)\n",
    "test_dataloader = torch.utils.data.DataLoader(test_dataset, batch_size, shuffle=False)\n",
    "val_dataloader = torch.utils.data.DataLoader(val_dataset, batch_size, shuffle=False)"
   ]
  },
  {
   "cell_type": "code",
   "execution_count": 468,
   "id": "1717417d",
   "metadata": {},
   "outputs": [],
   "source": [
    "#lr=0.0001\n",
    "#dropout = 0.3\n",
    "#out_channels = 24\n",
    "#kernel_size = 11\n",
    "#val loss = 0.033388595137512314"
   ]
  },
  {
   "cell_type": "code",
   "execution_count": 469,
   "id": "6678e879",
   "metadata": {},
   "outputs": [
    {
     "name": "stdout",
     "output_type": "stream",
     "text": [
      "5\n",
      "Epoch 1, \n",
      "Train loss: 0.6943265828821394\n",
      "Validation loss: 0.6883039275805155\n",
      "Epoch 11, \n",
      "Train loss: 0.6685296793778738\n",
      "Validation loss: 0.6635365883509318\n",
      "Epoch 21, \n",
      "Train loss: 0.6403329339292314\n",
      "Validation loss: 0.6315409739812216\n",
      "Epoch 31, \n",
      "Train loss: 0.6095153225792779\n",
      "Validation loss: 0.5955162843068441\n",
      "Epoch 41, \n",
      "Train loss: 0.5731967952516344\n",
      "Validation loss: 0.5552589694658915\n",
      "Epoch 51, \n",
      "Train loss: 0.5391500194867452\n",
      "Validation loss: 0.5163228114446005\n",
      "Epoch 61, \n",
      "Train loss: 0.506602351864179\n",
      "Validation loss: 0.48010164499282837\n",
      "Epoch 71, \n",
      "Train loss: 0.4811849825912052\n",
      "Validation loss: 0.4492558538913727\n",
      "Epoch 81, \n",
      "Train loss: 0.4542376432153914\n",
      "Validation loss: 0.41448672612508136\n",
      "Epoch 91, \n",
      "Train loss: 0.4226044300529692\n",
      "Validation loss: 0.38251905639966327\n",
      "Epoch 101, \n",
      "Train loss: 0.40050236218505436\n",
      "Validation loss: 0.3558137019475301\n",
      "Epoch 111, \n",
      "Train loss: 0.373399727874332\n",
      "Validation loss: 0.33250802755355835\n",
      "Epoch 121, \n",
      "Train loss: 0.35517387092113495\n",
      "Validation loss: 0.31150155266125995\n",
      "Epoch 131, \n",
      "Train loss: 0.33377091421021354\n",
      "Validation loss: 0.2935267786184947\n",
      "Epoch 141, \n",
      "Train loss: 0.31106564816501403\n",
      "Validation loss: 0.2764664987723033\n",
      "Epoch 151, \n",
      "Train loss: 0.29002589070134693\n",
      "Validation loss: 0.26081917186578113\n",
      "Epoch 161, \n",
      "Train loss: 0.2757634007268482\n",
      "Validation loss: 0.246404896179835\n",
      "Epoch 171, \n",
      "Train loss: 0.2597810642586814\n",
      "Validation loss: 0.23351315160592398\n",
      "Epoch 181, \n",
      "Train loss: 0.2446554054816564\n",
      "Validation loss: 0.22232324381669363\n",
      "Epoch 191, \n",
      "Train loss: 0.2300332701868481\n",
      "Validation loss: 0.21193716923395792\n",
      "Epoch 201, \n",
      "Train loss: 0.2177094096938769\n",
      "Validation loss: 0.20308377345403036\n",
      "Epoch 211, \n",
      "Train loss: 0.20782350334856245\n",
      "Validation loss: 0.19378976027170816\n",
      "Epoch 221, \n",
      "Train loss: 0.19001098556651008\n",
      "Validation loss: 0.186068927248319\n",
      "Epoch 231, \n",
      "Train loss: 0.1852034723593129\n",
      "Validation loss: 0.17888604352871576\n",
      "Epoch 241, \n",
      "Train loss: 0.17036692135863835\n",
      "Validation loss: 0.17161159217357635\n",
      "Epoch 251, \n",
      "Train loss: 0.16205486324098375\n",
      "Validation loss: 0.16525516907374063\n",
      "Epoch 261, \n",
      "Train loss: 0.15208153674999872\n",
      "Validation loss: 0.15801465014616647\n",
      "Epoch 271, \n",
      "Train loss: 0.14355185131231943\n",
      "Validation loss: 0.1517662008603414\n",
      "Epoch 281, \n",
      "Train loss: 0.1367979413933224\n",
      "Validation loss: 0.14636782060066858\n",
      "Epoch 291, \n",
      "Train loss: 0.12904114234778616\n",
      "Validation loss: 0.14165609329938889\n",
      "Epoch 301, \n",
      "Train loss: 0.11664467925826709\n",
      "Validation loss: 0.13715902467568716\n",
      "Epoch 311, \n",
      "Train loss: 0.11440996122029093\n",
      "Validation loss: 0.13223276287317276\n",
      "Epoch 321, \n",
      "Train loss: 0.10879596964352661\n",
      "Validation loss: 0.12881966928641\n",
      "Epoch 331, \n",
      "Train loss: 0.10677163468466865\n",
      "Validation loss: 0.12528305997451147\n",
      "Epoch 341, \n",
      "Train loss: 0.09929744940665033\n",
      "Validation loss: 0.12243443975845973\n",
      "Epoch 351, \n",
      "Train loss: 0.08654719632532862\n",
      "Validation loss: 0.11997307340304057\n",
      "Epoch 361, \n",
      "Train loss: 0.08673075358900759\n",
      "Validation loss: 0.11727346355716388\n",
      "Epoch 371, \n",
      "Train loss: 0.08323106997542912\n",
      "Validation loss: 0.11346591512362163\n",
      "Epoch 381, \n",
      "Train loss: 0.07850798902412255\n",
      "Validation loss: 0.11223913853367169\n",
      "Epoch 391, \n",
      "Train loss: 0.07950443857245976\n",
      "Validation loss: 0.1104893647134304\n"
     ]
    }
   ],
   "source": [
    "# create a model, loss function and optimizer\n",
    "out_channels = 24\n",
    "kernel_size = 11\n",
    "model = CNN(in_channels=num_channels, out_channels = out_channels, kernel_size = kernel_size, \\\n",
    "            num_classes=num_classes, max_length = max_lengh, dropout = 0.2, pooling = 6)\n",
    "model.to(device)\n",
    "criterion = nn.CrossEntropyLoss()\n",
    "optimizer = optim.Adam(model.parameters(), lr=0.00001)\n",
    "# train the model\n",
    "num_epochs = 400\n",
    "train_loss = []\n",
    "val_loss = []\n",
    "for epoch in range(num_epochs):\n",
    "    model.train()\n",
    "    train_running_loss = 0.0\n",
    "    for i, data in enumerate(train_dataloader, 0):\n",
    "        inputs, labels = data\n",
    "        optimizer.zero_grad()\n",
    "        outputs = model(inputs)\n",
    "        loss = criterion(outputs, labels)\n",
    "        loss.backward()\n",
    "        optimizer.step()\n",
    "        train_running_loss += loss.item()\n",
    "    train_loss.append(train_running_loss/len(train_dataloader))\n",
    "    # evaluate the model\n",
    "    model.eval()\n",
    "    val_running_loss = 0.0\n",
    "    with torch.no_grad():\n",
    "        for i, data in enumerate(val_dataloader, 0):\n",
    "            inputs, labels_ = data\n",
    "            outputs = model(inputs)\n",
    "            loss = criterion(outputs, labels_)\n",
    "            val_running_loss += loss.item()\n",
    "    val_loss.append(val_running_loss/len(val_dataloader))\n",
    "    if epoch%10 == 0:\n",
    "        print(f\"Epoch {epoch+1}, \\nTrain loss: {train_running_loss/len(train_dataloader)}\")\n",
    "        print(f\"Validation loss: {val_running_loss/len(val_dataloader)}\")\n"
   ]
  },
  {
   "cell_type": "code",
   "execution_count": 470,
   "id": "6873547f",
   "metadata": {},
   "outputs": [
    {
     "data": {
      "text/plain": [
       "[<matplotlib.lines.Line2D at 0x7f1ae573cd90>]"
      ]
     },
     "execution_count": 470,
     "metadata": {},
     "output_type": "execute_result"
    },
    {
     "data": {
      "image/png": "[encoded data removed]",
      "text/plain": [
       "<Figure size 432x288 with 1 Axes>"
      ]
     },
     "metadata": {
      "needs_background": "light"
     },
     "output_type": "display_data"
    }
   ],
   "source": [
    "plt.plot(train_loss)\n",
    "plt.plot(val_loss)"
   ]
  },
  {
   "cell_type": "code",
   "execution_count": 432,
   "id": "0312fefc",
   "metadata": {},
   "outputs": [
    {
     "data": {
      "text/plain": [
       "'splicing'"
      ]
     },
     "execution_count": 432,
     "metadata": {},
     "output_type": "execute_result"
    }
   ],
   "source": [
    "non_redundant_labels_balanced[-9]"
   ]
  },
  {
   "cell_type": "code",
   "execution_count": 433,
   "id": "9c6a824a",
   "metadata": {},
   "outputs": [
    {
     "data": {
      "text/plain": [
       "torch.Size([11, 5, 126])"
      ]
     },
     "execution_count": 433,
     "metadata": {},
     "output_type": "execute_result"
    }
   ],
   "source": [
    "inputs.shape"
   ]
  },
  {
   "cell_type": "code",
   "execution_count": 434,
   "id": "25b73709",
   "metadata": {},
   "outputs": [
    {
     "data": {
      "text/plain": [
       "torch.Size([2, 5, 126])"
      ]
     },
     "execution_count": 434,
     "metadata": {},
     "output_type": "execute_result"
    }
   ],
   "source": [
    "input_seqs[0:2].shape"
   ]
  },
  {
   "cell_type": "code",
   "execution_count": 435,
   "id": "63719bf9",
   "metadata": {},
   "outputs": [],
   "source": [
    "test_index = -9"
   ]
  },
  {
   "cell_type": "code",
   "execution_count": 454,
   "id": "798efd0c",
   "metadata": {},
   "outputs": [],
   "source": [
    "seqs = [input_seqs[test_index,:,20:].permute(1,0), \\\n",
    "        input_seqs[test_index,:,15:].permute(1,0), \\\n",
    "        input_seqs[test_index,:,:].permute(1,0)]\n",
    "test_change = pad_sequence(seqs, True, 0).permute(0,2,1)\n"
   ]
  },
  {
   "cell_type": "code",
   "execution_count": 455,
   "id": "fe70ad85",
   "metadata": {},
   "outputs": [
    {
     "data": {
      "text/plain": [
       "tensor([0, 1, 1], device='cuda:0')"
      ]
     },
     "execution_count": 455,
     "metadata": {},
     "output_type": "execute_result"
    }
   ],
   "source": [
    "outputs = model(test_change.to(device))\n",
    "_, predicted = torch.max(outputs.data, 1)\n",
    "predicted"
   ]
  },
  {
   "cell_type": "code",
   "execution_count": 438,
   "id": "7f599ac4",
   "metadata": {},
   "outputs": [],
   "source": [
    "attributions, delta = ig.attribute(test_change.to(device), target=1,\\\n",
    "                                   return_convergence_delta=True)"
   ]
  },
  {
   "cell_type": "code",
   "execution_count": 456,
   "id": "73b04df8",
   "metadata": {},
   "outputs": [
    {
     "data": {
      "image/png": "[encoded data removed]",
      "text/plain": [
       "<Figure size 432x288 with 1 Axes>"
      ]
     },
     "metadata": {
      "needs_background": "light"
     },
     "output_type": "display_data"
    },
    {
     "data": {
      "image/png": "[encoded data removed]",
      "text/plain": [
       "<Figure size 432x288 with 1 Axes>"
      ]
     },
     "metadata": {
      "needs_background": "light"
     },
     "output_type": "display_data"
    },
    {
     "data": {
      "image/png": "[encoded data removed]",
      "text/plain": [
       "<Figure size 432x288 with 1 Axes>"
      ]
     },
     "metadata": {
      "needs_background": "light"
     },
     "output_type": "display_data"
    }
   ],
   "source": [
    "plt.plot(attributions[0].sum(0).cpu())\n",
    "plt.show()\n",
    "plt.plot(attributions[1].sum(0).cpu())\n",
    "plt.show()\n",
    "\n",
    "plt.plot(attributions[2].sum(0).cpu())\n",
    "plt.show()\n"
   ]
  },
  {
   "cell_type": "code",
   "execution_count": 471,
   "id": "f1949f56",
   "metadata": {},
   "outputs": [
    {
     "name": "stdout",
     "output_type": "stream",
     "text": [
      "torch.Size([32, 5, 130]) torch.Size([32])\n",
      "torch.Size([32, 5, 130]) torch.Size([32])\n",
      "torch.Size([7, 5, 130]) torch.Size([7])\n",
      "Accuracy: 98.59154929577464%\n"
     ]
    },
    {
     "data": {
      "text/plain": [
       "Text(33.0, 0.5, 'True')"
      ]
     },
     "execution_count": 471,
     "metadata": {},
     "output_type": "execute_result"
    },
    {
     "data": {
      "image/png": "[encoded data removed]",
      "text/plain": [
       "<Figure size 432x288 with 2 Axes>"
      ]
     },
     "metadata": {
      "needs_background": "light"
     },
     "output_type": "display_data"
    }
   ],
   "source": [
    "model.eval()\n",
    "correct = 0\n",
    "total = 0\n",
    "y_true = []\n",
    "y_pred = []\n",
    "test_inputs = []\n",
    "with torch.no_grad():\n",
    "    for data in test_dataloader:\n",
    "        inputs, labels_ = data\n",
    "        test_inputs.extend(inputs)\n",
    "        print(inputs.shape, labels_.shape)\n",
    "        outputs = model(inputs)\n",
    "        _, predicted = torch.max(outputs.data, 1)\n",
    "        y_true.extend(labels_)\n",
    "        y_pred.extend(predicted)\n",
    "        total += labels_.size(0)\n",
    "        correct += (predicted == labels_).sum().item()\n",
    "print(f\"Accuracy: {100 * correct / total}%\")\n",
    "\n",
    "y_true = [i.cpu().numpy().item() for i in y_true]\n",
    "y_pred = [i.cpu().numpy().item() for i in y_pred]\n",
    "failed_predictions = torch.tensor(y_pred) - torch.tensor(y_true) != 0\n",
    "failed_indices = [i for i, value in enumerate(failed_predictions) if value]\n",
    "\n",
    "cm = metrics.confusion_matrix(y_true, y_pred)\n",
    "col_labels = label_mapping.values()\n",
    "row_labels = label_mapping.values()\n",
    "\n",
    "sns.heatmap(cm, xticklabels=col_labels, yticklabels=row_labels, annot=True, fmt='d', cmap=\"gray\")\n",
    "plt.xlabel('Pred')\n",
    "plt.ylabel('True')"
   ]
  },
  {
   "cell_type": "code",
   "execution_count": 106,
   "id": "21450f15",
   "metadata": {},
   "outputs": [
    {
     "data": {
      "text/plain": [
       "['GTGAAACCCTGTCTCTACTAAAAATACAAAAAATTAGCCGGGCGTGGTGGCGGGCGCCCGTAATCCCAGCTACTCGGGAGGCTGAGGCAGGAGAATGGCG--',\n",
       " 'GTGAAACCCTGTCTCTACTAAAAATACAAAAA-TTAGCCAGATGTGGTGGCACACACCTGTAATCCCAGCTACTCAGGAGGCTGAGGCAGGAGAATTGCTT-',\n",
       " 'GTGAAACCCTGTCTCTACTAAAAATACAAAAA-TTAGCCGAGCGTGGTGACACACGCCTGTAATCCCAGCTACTCAGGAGGC-AAGGCAGGAGAATTGCTTG',\n",
       " 'GTGAAACCCTGTCTCTACTAAAAATACAAAAA--TTGTTTAGCTCTGTTTTTCATAATAGAAATAGAAAAGGTAAAATTGCTTTTCTTCTGAAAAGAACAAG',\n",
       " 'GTGAAACCCTGTCTCTACTAAAAATACAAAAA-TTAGCTGGGCATGGTGGCGGGTGCCTATAATCCCAGCTACTTGGGAGGCTGAGGCAGGA----------',\n",
       " 'GTGAAACCCTGTCTCTACTAAAAATACAAAAAATTAGCCAGGCGTGGTGGCGGGCGCCTGTAGTCCCAGCTACTCTGGAGGCTGAGGCAGGAGA--------',\n",
       " 'GTGAAACCCTGTCTCTACTAAAAATACAAAAAATTAGCCGGGTGTGGTGGTGGGCGCCTGTAGTCCCAGCTACTTGGGAGGCTGAGGCAGGAGAATGGT---',\n",
       " 'GTGAAACCCTGTCTCTACTAAAAATACAAAAA-TTAGCCAGGCGTGGTGGC---------------------------------------------------',\n",
       " 'GTGAAACCCTGTCTCTACTAAAAATACAAAAAAAAAAAAAAAAAAAAAAAAAAAAAAAAA------------------------------------------',\n",
       " 'GTGAAACCCTGTCTCTACTAAAAATACAAAAAATTAGCCAGGCACTGTGGCGGGTGCCTGTAGTCCCAGCTACTTGGGAGGTTGAGCCAGGAGA--------']"
      ]
     },
     "execution_count": 106,
     "metadata": {},
     "output_type": "execute_result"
    }
   ],
   "source": [
    "non_redundant_msa[0].aligned_seqs"
   ]
  },
  {
   "cell_type": "code",
   "execution_count": 107,
   "id": "fdf9093b",
   "metadata": {},
   "outputs": [
    {
     "data": {
      "text/plain": [
       "'Base_pair_change_6'"
      ]
     },
     "execution_count": 107,
     "metadata": {},
     "output_type": "execute_result"
    }
   ],
   "source": [
    "original_labels[80]"
   ]
  },
  {
   "cell_type": "code",
   "execution_count": 108,
   "id": "bae0f973",
   "metadata": {},
   "outputs": [
    {
     "data": {
      "text/plain": [
       "array([False, False, False, ...,  True,  True,  True])"
      ]
     },
     "execution_count": 108,
     "metadata": {},
     "output_type": "execute_result"
    }
   ],
   "source": [
    "np.array(original_labels) == \"splicing\""
   ]
  },
  {
   "cell_type": "code",
   "execution_count": 483,
   "id": "5d52b6e0",
   "metadata": {},
   "outputs": [],
   "source": [
    "num_compactors = [len(msa.aligned_seqs) for msa in non_redundant_msa]\n",
    "avg_len_compactors = [msa.mean_length for msa in non_redundant_msa]\n",
    "max_len_compactors = [msa.max_length for msa in non_redundant_msa]\n"
   ]
  },
  {
   "cell_type": "code",
   "execution_count": 486,
   "id": "502eac33",
   "metadata": {},
   "outputs": [
    {
     "data": {
      "text/html": [
       "<div>\n",
       "<style scoped>\n",
       "    .dataframe tbody tr th:only-of-type {\n",
       "        vertical-align: middle;\n",
       "    }\n",
       "\n",
       "    .dataframe tbody tr th {\n",
       "        vertical-align: top;\n",
       "    }\n",
       "\n",
       "    .dataframe thead th {\n",
       "        text-align: right;\n",
       "    }\n",
       "</style>\n",
       "<table border=\"1\" class=\"dataframe\">\n",
       "  <thead>\n",
       "    <tr style=\"text-align: right;\">\n",
       "      <th></th>\n",
       "      <th>length</th>\n",
       "    </tr>\n",
       "    <tr>\n",
       "      <th>label</th>\n",
       "      <th></th>\n",
       "    </tr>\n",
       "  </thead>\n",
       "  <tbody>\n",
       "    <tr>\n",
       "      <th>3UTR</th>\n",
       "      <td>97.247209</td>\n",
       "    </tr>\n",
       "    <tr>\n",
       "      <th>splicing</th>\n",
       "      <td>99.161725</td>\n",
       "    </tr>\n",
       "  </tbody>\n",
       "</table>\n",
       "</div>"
      ],
      "text/plain": [
       "             length\n",
       "label              \n",
       "3UTR      97.247209\n",
       "splicing  99.161725"
      ]
     },
     "execution_count": 486,
     "metadata": {},
     "output_type": "execute_result"
    }
   ],
   "source": [
    "df_feat.groupby(\"label\").mean()"
   ]
  },
  {
   "cell_type": "code",
   "execution_count": 485,
   "id": "288d578d",
   "metadata": {},
   "outputs": [
    {
     "data": {
      "text/plain": [
       "<Axes: xlabel='label', ylabel='length'>"
      ]
     },
     "execution_count": 485,
     "metadata": {},
     "output_type": "execute_result"
    },
    {
     "data": {
      "image/png": "[encoded data removed]",
      "text/plain": [
       "<Figure size 432x288 with 1 Axes>"
      ]
     },
     "metadata": {
      "needs_background": "light"
     },
     "output_type": "display_data"
    }
   ],
   "source": [
    "df_feat = pd.DataFrame([max_len_compactors, non_redundant_labels]).T\n",
    "df_feat.columns = [\"length\", \"label\"]\n",
    "df_feat\n",
    "sns.boxplot(data =df_feat, x = \"label\", y = \"length\")"
   ]
  },
  {
   "cell_type": "code",
   "execution_count": 111,
   "id": "f07f7276",
   "metadata": {},
   "outputs": [
    {
     "data": {
      "text/plain": [
       "['TACATGGGAAGCAGTGGTATCAACGCCTGTCTCTTATACACATCTCCGAGCCCACGAGACCTGCCGAGTCTTATCTCGTATGCCGTCTTCTG',\n",
       " 'TACATGGGAAGCAGTGGTATCAACGCCTGTCTCTTATACACATCTCCGAGCCCACGAGACTTCCACAATCTGATCTCGTATGCCGTCTT---',\n",
       " 'TACATGGGAAGCAGTGGTATCAACGCCTGTCTCTTATACACATCTCCGAGCCCACGAGACATGTGTATCCTCATCTCGTATGCCGTCTTCTG',\n",
       " 'TACATGGGAAGCAGTGGTATCAACGCCTGTCTCTTATACACATCTCCGAGCCCACGAGACCCCATCTTCTCCATCTCGTATGCCGTCTTCTG',\n",
       " 'TACATGGGAAGCAGTGGTATCAACGCCTGTCTCTTATACACATCTCCGAGCCCACGAGACTTGCTAATAGTGATCTCGTATGCCGTCTTCT-',\n",
       " 'TACATGGGAAGCAGTGGTATCAACGCCTGTCTCTTATACACATCTCCGAGCCCACGAGACAGCACTTGCCCGATCTCGTATGCCGTC-----',\n",
       " 'TACATGGGAAGCAGTGGTATCAACGCCTGTCTCTTATACACATCTCCGAGCCCACGAGACAACTAAAGGTCTATCTCGTATGCCGTCTTCTG',\n",
       " 'TACATGGGAAGCAGTGGTATCAACGCCTGTCTCTTATACACATCTCCGAGCCCACGAGACTGAAGACC------------------------',\n",
       " 'TACATGGGAAGCAGTGGTATCAACGCCTGTCTCTTATACACATCTCCGAGCCCACGAGACCAATACGAGTGAATCTCGTATGCCGTC-----',\n",
       " 'TACATGGGAAGCAGTGGTATCAACGCCTGTCTCTTATACACATCTCCGAGCCCACGAGACCGGATAACAATAATCTCGTATGCCGTCTTCTG']"
      ]
     },
     "execution_count": 111,
     "metadata": {},
     "output_type": "execute_result"
    }
   ],
   "source": [
    "non_redundant_msa[2].aligned_seqs"
   ]
  },
  {
   "cell_type": "code",
   "execution_count": 108,
   "id": "b2d5eda6",
   "metadata": {},
   "outputs": [
    {
     "data": {
      "text/plain": [
       "['TGCCTGTGCAACTGTCGGAAATAGAGGCTTCGTGTTTGGAGGCAGATATCGAGATGCTAGAATGAATGATCTTCACTATCTTAATCTGGATACATG',\n",
       " 'TGCCTGTGCAACTGTCGGAAATAGAGGCTTCGTGTTTGGAGGCAGATATCGAGTAAGTATT-CAAACGA-CTTCAATGACTT--------------']"
      ]
     },
     "execution_count": 108,
     "metadata": {},
     "output_type": "execute_result"
    }
   ],
   "source": [
    "non_redundant_msa[-1].aligned_seqs"
   ]
  },
  {
   "cell_type": "code",
   "execution_count": 106,
   "id": "a20d0f31",
   "metadata": {},
   "outputs": [
    {
     "data": {
      "text/plain": [
       "'splicing'"
      ]
     },
     "execution_count": 106,
     "metadata": {},
     "output_type": "execute_result"
    }
   ],
   "source": [
    "non_redundant_labels[-1]"
   ]
  },
  {
   "cell_type": "code",
   "execution_count": 53,
   "id": "ec715e07",
   "metadata": {},
   "outputs": [
    {
     "data": {
      "text/plain": [
       "<matplotlib.collections.PathCollection at 0x7fb4a21c6fd0>"
      ]
     },
     "execution_count": 53,
     "metadata": {},
     "output_type": "execute_result"
    },
    {
     "data": {
      "image/png": "[encoded data removed]",
      "text/plain": [
       "<Figure size 432x288 with 1 Axes>"
      ]
     },
     "metadata": {
      "needs_background": "light"
     },
     "output_type": "display_data"
    }
   ],
   "source": [
    "plt.scatter(avg_len_compactors, non_redundant_labels, marker = \".\")"
   ]
  },
  {
   "cell_type": "code",
   "execution_count": 41,
   "id": "5f88b914",
   "metadata": {},
   "outputs": [
    {
     "data": {
      "text/plain": [
       "['TTCTCCTGTCTCAGCCTCCCAAGTAGCTGGAATTACAGGGACCCGCCACCACGCCCGGCTAATTTTTTTGTGTGGTTTTAGTAGAGGTGGGGTTTC-',\n",
       " 'TTCTCCTGTCTCAGCCTCCCAAGTAGCTGGGATTACAGGCATGCACCAGCACACCCAGCTAATTTT-----GTATTTTTAGTAGAGACAGGGTTT--',\n",
       " 'TTCTCCTGTCTCAGCCTCCCAAGTAGCTGGGACTACAGGCGCCCACCATCATGCCCGGCTAATTTTTT---GTATTTTTAATAGAGATAGGG-----',\n",
       " 'TTCTCCTGTCTCAGCCTCCCAAGTAGCTGGGATTACAGGCACACACTGCCACGCCTGGTTAATTTTT----GCATTTTTAGTAGAGACAGGGTTTCA',\n",
       " 'TTCTCCTGTCTCAGCCTCCCAAGTAGCTGGGATTACAGGTGCCCGCCACCA----------------------------------------------',\n",
       " 'TTCTCCTGTCTCAGCCTCCCAAGTAGCTGGGACTACAGGCGCCCGCCACCAC---------------------------------------------']"
      ]
     },
     "execution_count": 41,
     "metadata": {},
     "output_type": "execute_result"
    }
   ],
   "source": [
    "all_msa[-4].aligned_seqs"
   ]
  },
  {
   "cell_type": "code",
   "execution_count": 473,
   "id": "62054e86",
   "metadata": {},
   "outputs": [],
   "source": [
    "ig = IntegratedGradients(model)\n",
    "attributions, delta = ig.attribute(torch.stack(test_inputs, dim=0), target=1,\\\n",
    "                                   return_convergence_delta=True)\n"
   ]
  },
  {
   "cell_type": "code",
   "execution_count": 474,
   "id": "b11666c1",
   "metadata": {},
   "outputs": [],
   "source": [
    "attribution_score = attributions.sum(dim=1).sum(dim=-1)"
   ]
  },
  {
   "cell_type": "code",
   "execution_count": 475,
   "id": "5f863bdd",
   "metadata": {},
   "outputs": [
    {
     "data": {
      "text/plain": [
       "<matplotlib.collections.PathCollection at 0x7f1ae588b100>"
      ]
     },
     "execution_count": 475,
     "metadata": {},
     "output_type": "execute_result"
    },
    {
     "data": {
      "image/png": "[encoded data removed]",
      "text/plain": [
       "<Figure size 432x288 with 1 Axes>"
      ]
     },
     "metadata": {
      "needs_background": "light"
     },
     "output_type": "display_data"
    }
   ],
   "source": [
    "plt.scatter(attribution_score.cpu(), torch.tensor(y_pred).cpu())"
   ]
  },
  {
   "cell_type": "code",
   "execution_count": 213,
   "id": "9435e93b",
   "metadata": {},
   "outputs": [
    {
     "data": {
      "text/plain": [
       "array([0, 0, 1, 1, 0, 0, 1, 0, 1, 1, 1, 1, 0, 0, 1, 0, 1, 0, 1, 1, 1, 0,\n",
       "       0, 1, 1, 1, 0, 1, 0, 0, 0, 1, 0, 1, 1, 1, 1, 1, 0, 0, 1, 1, 0, 0,\n",
       "       1, 1, 1, 0, 0, 1, 1, 1, 0, 1, 1, 1, 1, 1, 0, 0, 0, 1, 0, 0, 1, 0,\n",
       "       1, 1, 1, 0, 1])"
      ]
     },
     "execution_count": 213,
     "metadata": {},
     "output_type": "execute_result"
    }
   ],
   "source": [
    "np.array(y_pred)"
   ]
  },
  {
   "cell_type": "code",
   "execution_count": 217,
   "id": "c1d0cf1e",
   "metadata": {},
   "outputs": [
    {
     "data": {
      "text/plain": [
       "['CAGGGATTTCCTACCATTAAGATTTTT-GGATCCAACAAAAACAGACCAGAAGATTACCAAGGTGGCAGAACTGGTGAAGCCATTGTAGATGCTGCGC',\n",
       " 'CAGGGATTTCCTACCATTAAGATTTTTTGGATCCAACAAAAACAGACCAGAAGATTACCAAGGTGGCAGAACTGGTGAAGCCATTGTAGATGCTGCG-']"
      ]
     },
     "execution_count": 217,
     "metadata": {},
     "output_type": "execute_result"
    }
   ],
   "source": [
    "non_redundant_msa[data_index].aligned_seqs"
   ]
  },
  {
   "cell_type": "code",
   "execution_count": 482,
   "id": "21fbd262",
   "metadata": {},
   "outputs": [
    {
     "name": "stdout",
     "output_type": "stream",
     "text": [
      "103\n"
     ]
    },
    {
     "data": {
      "image/png": "[encoded data removed]",
      "text/plain": [
       "<Figure size 432x288 with 1 Axes>"
      ]
     },
     "metadata": {
      "needs_background": "light"
     },
     "output_type": "display_data"
    },
    {
     "data": {
      "image/png": "[encoded data removed]",
      "text/plain": [
       "<Figure size 432x288 with 1 Axes>"
      ]
     },
     "metadata": {
      "needs_background": "light"
     },
     "output_type": "display_data"
    },
    {
     "name": "stdout",
     "output_type": "stream",
     "text": [
      "0 0\n",
      "tensor(-4.4914, device='cuda:0', dtype=torch.float64)\n"
     ]
    }
   ],
   "source": [
    "index = 5\n",
    "data_index = test_dataloader.dataset.indices[index]\n",
    "print(len(non_redundant_msa[data_index].aligned_seqs[0]))\n",
    "plt.plot(attributions.sum(dim=1)[index].cpu())\n",
    "seq_len = len(non_redundant_msa[data_index].aligned_seqs[0])\n",
    "viz_sequence_importance(non_redundant_msa[data_index].aligned_seqs, attributions.sum(dim=1)[index].cpu()[:seq_len])\n",
    "non_redundant_msa[data_index].aligned_seqs\n",
    "print(y_pred[index], y_true[index])\n",
    "print(attributions.sum(dim = [1,2])[index])"
   ]
  },
  {
   "cell_type": "code",
   "execution_count": 281,
   "id": "79a292e3",
   "metadata": {},
   "outputs": [
    {
     "data": {
      "text/plain": [
       "{0: '3UTR', 1: 'splicing'}"
      ]
     },
     "execution_count": 281,
     "metadata": {},
     "output_type": "execute_result"
    }
   ],
   "source": [
    "label_mapping"
   ]
  },
  {
   "cell_type": "code",
   "execution_count": 476,
   "id": "90aa83bf",
   "metadata": {},
   "outputs": [
    {
     "data": {
      "text/plain": [
       "[<matplotlib.lines.Line2D at 0x7f1b1eca0af0>]"
      ]
     },
     "execution_count": 476,
     "metadata": {},
     "output_type": "execute_result"
    },
    {
     "data": {
      "image/png": "[encoded data removed]",
      "text/plain": [
       "<Figure size 432x288 with 1 Axes>"
      ]
     },
     "metadata": {
      "needs_background": "light"
     },
     "output_type": "display_data"
    }
   ],
   "source": [
    "plt.plot(attributions.sum(dim = [0, 1]).cpu())"
   ]
  },
  {
   "cell_type": "code",
   "execution_count": 169,
   "id": "611eecb4",
   "metadata": {},
   "outputs": [
    {
     "data": {
      "text/plain": [
       "100"
      ]
     },
     "execution_count": 169,
     "metadata": {},
     "output_type": "execute_result"
    }
   ],
   "source": [
    "len(non_redundant_msa[data_index].aligned_seqs[0])"
   ]
  },
  {
   "cell_type": "code",
   "execution_count": 199,
   "id": "e628a6fd",
   "metadata": {},
   "outputs": [],
   "source": [
    "def viz_sequence_importance(seqs, attributions):\n",
    "    # Create a figure and axis\n",
    "    fig, ax = plt.subplots()\n",
    "    attributions = np.array(attributions)\n",
    "    attributions -= min(attributions)\n",
    "    attributions/= max(attributions)\n",
    "#     attributions -= 0.5\n",
    "#     attributions*=4\n",
    "    # Plot each string with characters colored according to the list of numbers\n",
    "    for si, string in enumerate(seqs):\n",
    "        for idx, char in enumerate(string):\n",
    "            color_index = idx % len(attributions)  # Cycle through numbers list\n",
    "            ax.text(idx * 0.05, 1 - si * 0.2, char, \n",
    "                    color=plt.cm.RdYlGn(attributions[color_index]), fontsize=20)\n",
    "    ax.set_ylim(-1, 1)\n",
    "    ax.axis('off')\n",
    "    plt.show()\n"
   ]
  },
  {
   "cell_type": "code",
   "execution_count": 159,
   "id": "41cd3221",
   "metadata": {},
   "outputs": [
    {
     "data": {
      "text/plain": [
       "array([0, 0, 1, 1, 0, 1, 1, 0, 1, 1, 1, 1, 0, 0, 1, 0, 1, 0, 1, 0, 0, 0,\n",
       "       0, 1, 1, 0, 0, 1, 0, 0, 0, 0, 0, 1, 1, 1, 1, 0, 0, 0, 1, 1, 0, 0,\n",
       "       1, 1, 1, 0, 0, 1, 0, 1, 0, 1, 1, 1, 1, 1, 0, 0, 0, 1, 0, 0, 1, 0,\n",
       "       1, 1, 1, 0, 1])"
      ]
     },
     "execution_count": 159,
     "metadata": {},
     "output_type": "execute_result"
    }
   ],
   "source": [
    "np.array(y_true)"
   ]
  },
  {
   "cell_type": "code",
   "execution_count": 166,
   "id": "bdccbc02",
   "metadata": {},
   "outputs": [
    {
     "data": {
      "text/plain": [
       "array([0, 0, 1, 0, 0, 0, 1, 0, 1, 1, 1, 1, 0, 0, 1, 0, 1, 0, 1, 1, 1, 0,\n",
       "       0, 1, 1, 1, 0, 1, 0, 0, 0, 0, 0, 1, 1, 1, 1, 0, 0, 0, 1, 1, 0, 0,\n",
       "       1, 1, 1, 0, 0, 1, 0, 1, 0, 1, 1, 1, 1, 1, 0, 0, 0, 1, 0, 0, 1, 0,\n",
       "       1, 1, 1, 0, 1])"
      ]
     },
     "execution_count": 166,
     "metadata": {},
     "output_type": "execute_result"
    }
   ],
   "source": [
    "np.array(y_pred)"
   ]
  },
  {
   "cell_type": "code",
   "execution_count": 119,
   "id": "e82ab30b",
   "metadata": {},
   "outputs": [
    {
     "name": "stdout",
     "output_type": "stream",
     "text": [
      "tensor(-1.1681, device='cuda:0', dtype=torch.float64)\n",
      "3\n",
      "tensor(-1.5068, device='cuda:0', dtype=torch.float64)\n",
      "5\n",
      "tensor(0.9797, device='cuda:0', dtype=torch.float64)\n",
      "19\n",
      "tensor(0.6691, device='cuda:0', dtype=torch.float64)\n",
      "20\n",
      "tensor(0.0259, device='cuda:0', dtype=torch.float64)\n",
      "25\n"
     ]
    }
   ],
   "source": [
    "for i in failed_indices:\n",
    "    print(attribution_score[i])\n",
    "    print(i)"
   ]
  },
  {
   "cell_type": "code",
   "execution_count": 120,
   "id": "bcb5075c",
   "metadata": {},
   "outputs": [
    {
     "data": {
      "text/plain": [
       "tensor(75)"
      ]
     },
     "execution_count": 120,
     "metadata": {},
     "output_type": "execute_result"
    }
   ],
   "source": [
    "np.argmax(attributions.sum(dim=1)[57].cpu())"
   ]
  },
  {
   "cell_type": "code",
   "execution_count": 121,
   "id": "f20fd6d1",
   "metadata": {},
   "outputs": [
    {
     "ename": "IndexError",
     "evalue": "index 79 is out of bounds for dimension 0 with size 71",
     "output_type": "error",
     "traceback": [
      "\u001b[0;31m---------------------------------------------------------------------------\u001b[0m",
      "\u001b[0;31mIndexError\u001b[0m                                Traceback (most recent call last)",
      "\u001b[0;32m/tmp/ipykernel_170602/2878039773.py\u001b[0m in \u001b[0;36m<module>\u001b[0;34m\u001b[0m\n\u001b[0;32m----> 1\u001b[0;31m \u001b[0mplt\u001b[0m\u001b[0;34m.\u001b[0m\u001b[0mplot\u001b[0m\u001b[0;34m(\u001b[0m\u001b[0mattributions\u001b[0m\u001b[0;34m.\u001b[0m\u001b[0msum\u001b[0m\u001b[0;34m(\u001b[0m\u001b[0mdim\u001b[0m\u001b[0;34m=\u001b[0m\u001b[0;36m1\u001b[0m\u001b[0;34m)\u001b[0m\u001b[0;34m[\u001b[0m\u001b[0;36m79\u001b[0m\u001b[0;34m]\u001b[0m\u001b[0;34m.\u001b[0m\u001b[0mcpu\u001b[0m\u001b[0;34m(\u001b[0m\u001b[0;34m)\u001b[0m\u001b[0;34m)\u001b[0m\u001b[0;34m\u001b[0m\u001b[0;34m\u001b[0m\u001b[0m\n\u001b[0m",
      "\u001b[0;31mIndexError\u001b[0m: index 79 is out of bounds for dimension 0 with size 71"
     ]
    }
   ],
   "source": [
    "plt.plot(attributions.sum(dim=1)[79].cpu())"
   ]
  },
  {
   "cell_type": "code",
   "execution_count": 89,
   "id": "ac080442",
   "metadata": {},
   "outputs": [
    {
     "data": {
      "text/plain": [
       "tensor([False,  True, False, False, False, False, False, False, False, False,\n",
       "        False, False, False, False,  True, False, False, False, False, False,\n",
       "        False, False, False, False, False, False, False, False, False, False,\n",
       "        False, False, False, False, False, False, False, False, False, False,\n",
       "        False, False,  True, False, False, False, False, False, False, False,\n",
       "        False, False, False,  True, False, False,  True, False, False, False,\n",
       "        False, False,  True,  True, False, False, False,  True, False, False,\n",
       "        False, False, False, False, False, False, False,  True, False, False,\n",
       "        False, False, False, False, False,  True, False, False, False, False,\n",
       "        False, False, False, False, False, False, False, False, False, False,\n",
       "         True, False, False, False, False, False, False,  True, False, False,\n",
       "        False, False, False, False, False, False, False, False,  True, False,\n",
       "        False, False, False, False, False, False, False, False, False, False,\n",
       "        False], device='cuda:0')"
      ]
     },
     "execution_count": 89,
     "metadata": {},
     "output_type": "execute_result"
    }
   ],
   "source": [
    "attribution_score > 10"
   ]
  },
  {
   "cell_type": "code",
   "execution_count": 43,
   "id": "6b0f8f47",
   "metadata": {},
   "outputs": [],
   "source": [
    "def plot_input(input_x):\n",
    "    plt.imshow(input_x.cpu())"
   ]
  },
  {
   "cell_type": "code",
   "execution_count": 105,
   "id": "484c8807",
   "metadata": {},
   "outputs": [
    {
     "data": {
      "image/png": "[encoded data removed]",
      "text/plain": [
       "<Figure size 432x288 with 1 Axes>"
      ]
     },
     "metadata": {
      "needs_background": "light"
     },
     "output_type": "display_data"
    }
   ],
   "source": [
    "plot_input(test_inputs[57])"
   ]
  },
  {
   "cell_type": "code",
   "execution_count": 112,
   "id": "776fdbc8",
   "metadata": {},
   "outputs": [
    {
     "data": {
      "text/plain": [
       "859"
      ]
     },
     "execution_count": 112,
     "metadata": {},
     "output_type": "execute_result"
    }
   ],
   "source": [
    "test_dataset.indices[79]"
   ]
  },
  {
   "cell_type": "code",
   "execution_count": 62,
   "id": "44fe5f3e",
   "metadata": {},
   "outputs": [
    {
     "data": {
      "text/plain": [
       "torch.Size([1314])"
      ]
     },
     "execution_count": 62,
     "metadata": {},
     "output_type": "execute_result"
    }
   ],
   "source": [
    "test_dataset.dataset.tensors[1].shape"
   ]
  },
  {
   "cell_type": "code",
   "execution_count": 48,
   "id": "5fdf3e37",
   "metadata": {},
   "outputs": [
    {
     "data": {
      "text/plain": [
       "55"
      ]
     },
     "execution_count": 48,
     "metadata": {},
     "output_type": "execute_result"
    }
   ],
   "source": [
    "len(\"TCGAGACCATCCTGGCTAACAAGGTGAAACCCCGTCTCTACTAAAAATACAAAAA\")"
   ]
  },
  {
   "cell_type": "code",
   "execution_count": 110,
   "id": "4073ebcf",
   "metadata": {},
   "outputs": [
    {
     "data": {
      "text/plain": [
       "'AATGA'"
      ]
     },
     "execution_count": 110,
     "metadata": {},
     "output_type": "execute_result"
    }
   ],
   "source": [
    "'GGGTGACAGGGTGAAACGCCATCTCAAAAAA-TAAAAATTGAAAAATAAAAAAAGAACCTGGATCTCAATTTAATTTTTCATATTCTTGCAATGAAATGGA'[90:95]"
   ]
  },
  {
   "cell_type": "code",
   "execution_count": 113,
   "id": "81ebb79f",
   "metadata": {},
   "outputs": [
    {
     "data": {
      "text/plain": [
       "['ATCGAGCATGCCGAGTTCTCGGGGAACCTGTATGGCACGAGCAAGGTGGCGGTGCAGGCCGTGCAGGCCATGAACCGCATCTGTGTGCTGGACGTGGA-',\n",
       " 'ATCGAGCATGCCGAGTTCTCGGGGAACCTGTATGGCACGAGCAAGGTGGCGGTGCAGGCTGTGCAGGCCATGAACCGCATCTGTGTGCTGGACGTGGAC']"
      ]
     },
     "execution_count": 113,
     "metadata": {},
     "output_type": "execute_result"
    }
   ],
   "source": [
    "df_aligned.groupby(\"anchor_index\").agg(list).aligned_compactor.to_list()[859]"
   ]
  },
  {
   "cell_type": "code",
   "execution_count": 52,
   "id": "628c4ce4",
   "metadata": {},
   "outputs": [
    {
     "data": {
      "text/plain": [
       "tensor(-2.7749, device='cuda:0', dtype=torch.float64)"
      ]
     },
     "execution_count": 52,
     "metadata": {},
     "output_type": "execute_result"
    }
   ],
   "source": [
    "attributions.sum()"
   ]
  },
  {
   "cell_type": "code",
   "execution_count": 50,
   "id": "a8877353",
   "metadata": {},
   "outputs": [
    {
     "data": {
      "text/plain": [
       "[<matplotlib.lines.Line2D at 0x7efb2a626b50>]"
      ]
     },
     "execution_count": 50,
     "metadata": {},
     "output_type": "execute_result"
    },
    {
     "data": {
      "image/png": "[encoded data removed]",
      "text/plain": [
       "<Figure size 432x288 with 1 Axes>"
      ]
     },
     "metadata": {
      "needs_background": "light"
     },
     "output_type": "display_data"
    }
   ],
   "source": [
    "plt.plot(attributions.sum(dim = 1).squeeze().cpu())"
   ]
  },
  {
   "cell_type": "code",
   "execution_count": 97,
   "id": "adf67bb5",
   "metadata": {},
   "outputs": [
    {
     "data": {
      "text/plain": [
       "[3, 13, 16, 24, 25, 31, 57, 79, 101, 129]"
      ]
     },
     "execution_count": 97,
     "metadata": {},
     "output_type": "execute_result"
    }
   ],
   "source": [
    "failed_predictions = torch.tensor(y_pred) - torch.tensor(y_true) != 0\n",
    "failed_indices = [i for i, value in enumerate(failed_predictions) if value]\n",
    "failed_indices"
   ]
  },
  {
   "cell_type": "code",
   "execution_count": 17,
   "id": "529643ed",
   "metadata": {
    "scrolled": false
   },
   "outputs": [
    {
     "name": "stdout",
     "output_type": "stream",
     "text": [
      "[[179  56]\n",
      " [ 10  96]]\n"
     ]
    }
   ],
   "source": [
    "print(metrics.confusion_matrix(torch.tensor(y_true), torch.tensor(y_pred)))\n"
   ]
  },
  {
   "cell_type": "code",
   "execution_count": 31,
   "id": "de5fe065",
   "metadata": {},
   "outputs": [],
   "source": [
    "wrong_index = 79"
   ]
  },
  {
   "cell_type": "code",
   "execution_count": 32,
   "id": "aa538c11",
   "metadata": {},
   "outputs": [
    {
     "data": {
      "text/plain": [
       "tensor(1, device='cuda:0')"
      ]
     },
     "execution_count": 32,
     "metadata": {},
     "output_type": "execute_result"
    }
   ],
   "source": [
    "y_pred[wrong_index]"
   ]
  },
  {
   "cell_type": "code",
   "execution_count": 33,
   "id": "b8e98d10",
   "metadata": {},
   "outputs": [
    {
     "data": {
      "text/plain": [
       "tensor(0, device='cuda:0')"
      ]
     },
     "execution_count": 33,
     "metadata": {},
     "output_type": "execute_result"
    }
   ],
   "source": [
    "y_true[wrong_index]"
   ]
  },
  {
   "cell_type": "code",
   "execution_count": 91,
   "id": "c3d0ad6b",
   "metadata": {},
   "outputs": [
    {
     "data": {
      "text/plain": [
       "1028"
      ]
     },
     "execution_count": 91,
     "metadata": {},
     "output_type": "execute_result"
    }
   ],
   "source": [
    "test_dataset.indices[wrong_index]"
   ]
  },
  {
   "cell_type": "code",
   "execution_count": 36,
   "id": "3f921f4c",
   "metadata": {},
   "outputs": [],
   "source": [
    "failed_case = df_aligned.groupby(\"anchor_index\").agg(list).compactor_valid.to_list()[79]"
   ]
  },
  {
   "cell_type": "code",
   "execution_count": 44,
   "id": "e3ade3b2",
   "metadata": {},
   "outputs": [
    {
     "name": "stdout",
     "output_type": "stream",
     "text": [
      "ATCGAGCATGCCGAGTTCTCGGGGAACCTGTATGGCACGAGCAAGGTGGCGGTGCAGGCCGTGCAGGCCATGAACCGCATCTGTGTGCTGGACGTGGA\n",
      "CGACTTCATCGAGCATGCCGAGTTCTCGGGGAACCTGTATGGCACGAGCAAGGTGGCGGTGCAGGCCGTGCAGGCCATGAACCGCATCTGTGTGC\n"
     ]
    }
   ],
   "source": [
    "for seq in df_aligned.compactor_valid.to_list():\n",
    "    if seq.find(\"GGTGCAGGCCGTGCAGGCCATGAACCGCATCTGT\") > -1 :\n",
    "        print(seq)"
   ]
  },
  {
   "cell_type": "code",
   "execution_count": 92,
   "id": "bbb0d103",
   "metadata": {},
   "outputs": [
    {
     "data": {
      "text/plain": [
       "['ATGGCTAAACCCTGACCCATCTCAGAAGCAGAATCTCCTAGCCCCACAGAATGCTGTGTCC---TCTGAAGAAACCAATGACTTTAAACAAGAGACCCTTCC',\n",
       " 'ATGGCTAAACCCTGACCCATCTCAGAAGCAGAATCTCCTAGCCCCACAGACCCTTCCAAGTAAGTCCAACGAAAGCCATGACCACATGGATGATATG-----']"
      ]
     },
     "execution_count": 92,
     "metadata": {},
     "output_type": "execute_result"
    }
   ],
   "source": [
    "df_aligned.groupby(\"anchor_index\").agg(list).aligned_compactor.to_list()[1028]"
   ]
  },
  {
   "cell_type": "code",
   "execution_count": 91,
   "id": "d532dd74",
   "metadata": {},
   "outputs": [
    {
     "data": {
      "text/plain": [
       "['ATCGAGCATGCCGAGTTCTCGGGGAACCTGTATGGCACGAGCAAGGTGGCGGTGCAGGCCGTGCAGGCCATGAACCGCATCTGTGTGCTGGACGTGGA',\n",
       " 'ATCGAGCATGCCGAGTTCTCGGGGAACCTGTATGGCACGAGCAAGGTGGCGGTGCAGGCTGTGCAGGCCATGAACCGCATCTGTGTGCTGGACGTGGAC']"
      ]
     },
     "execution_count": 91,
     "metadata": {},
     "output_type": "execute_result"
    }
   ],
   "source": [
    "failed_case"
   ]
  },
  {
   "cell_type": "code",
   "execution_count": 64,
   "id": "c497afca",
   "metadata": {},
   "outputs": [
    {
     "data": {
      "text/plain": [
       "tensor(1, device='cuda:0')"
      ]
     },
     "execution_count": 64,
     "metadata": {},
     "output_type": "execute_result"
    }
   ],
   "source": [
    "y_true[62]"
   ]
  },
  {
   "cell_type": "code",
   "execution_count": 46,
   "id": "dbfeeff0",
   "metadata": {},
   "outputs": [
    {
     "data": {
      "text/plain": [
       "tensor(0, device='cuda:0')"
      ]
     },
     "execution_count": 46,
     "metadata": {},
     "output_type": "execute_result"
    }
   ],
   "source": [
    "y_true[48]"
   ]
  },
  {
   "cell_type": "code",
   "execution_count": 111,
   "id": "2cdd87e7",
   "metadata": {},
   "outputs": [
    {
     "data": {
      "text/plain": [
       "<matplotlib.image.AxesImage at 0x7f1bd87ff6d0>"
      ]
     },
     "execution_count": 111,
     "metadata": {},
     "output_type": "execute_result"
    },
    {
     "data": {
      "image/png": "[encoded data removed]",
      "text/plain": [
       "<Figure size 432x288 with 1 Axes>"
      ]
     },
     "metadata": {
      "needs_background": "light"
     },
     "output_type": "display_data"
    }
   ],
   "source": [
    "plt.imshow(test_inputs[106].cpu())"
   ]
  },
  {
   "cell_type": "code",
   "execution_count": null,
   "id": "2fe66c6b",
   "metadata": {},
   "outputs": [],
   "source": []
  }
 ],
 "metadata": {
  "kernelspec": {
   "display_name": "Python 3 (ipykernel)",
   "language": "python",
   "name": "python3"
  },
  "language_info": {
   "codemirror_mode": {
    "name": "ipython",
    "version": 3
   },
   "file_extension": ".py",
   "mimetype": "text/x-python",
   "name": "python",
   "nbconvert_exporter": "python",
   "pygments_lexer": "ipython3",
   "version": "3.9.0"
  }
 },
 "nbformat": 4,
 "nbformat_minor": 5
}
