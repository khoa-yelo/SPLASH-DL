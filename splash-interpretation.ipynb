{
 "cells": [
  {
   "cell_type": "code",
   "execution_count": 44,
   "id": "ac9a07b7",
   "metadata": {},
   "outputs": [],
   "source": [
    "import torch\n",
    "import torch.nn as nn\n",
    "import torch.optim as optim\n",
    "from torch.nn.utils.rnn import pad_sequence\n",
    "import numpy as np\n",
    "\n",
    "import pandas as pd"
   ]
  },
  {
   "cell_type": "code",
   "execution_count": 12,
   "id": "15bbcb68",
   "metadata": {},
   "outputs": [],
   "source": [
    "lab2onehot =  lambda seq: torch.eye(len(alphabet_dict))[seq]\n",
    "seq2lab = lambda seq: torch.tensor([alphabet_dict[i] for i in seq])"
   ]
  },
  {
   "cell_type": "code",
   "execution_count": 67,
   "id": "f67ff16c",
   "metadata": {},
   "outputs": [],
   "source": [
    "def label(seqs, alphabet_dict):\n",
    "    assert any(seqs), \"empty sequence input\"\n",
    "    assert any([len(seq) != len(seq[0]) for seq in seqs])\n",
    "    encoded_seqs = torch.ones((len(seqs), len(seqs[0])))\n",
    "    for i,seq in enumerate(seqs):\n",
    "        encoded_seq = torch.tensor([alphabet_dict[a] for a in seq])\n",
    "        encoded_seqs[i,:] = encoded_seq\n",
    "    return encoded_seqs\n",
    "\n",
    "def onehot(seqs, alphabet_dict):\n",
    "    assert any(seqs), \"empty sequence input\"\n",
    "    assert any([len(seq) != len(seq[0]) for seq in seqs])\n",
    "    encoded_seqs = torch.ones((len(seqs), len(seqs[0]), len(alphabet_dict)))\n",
    "    for i,seq in enumerate(seqs):\n",
    "        encoded_seq = seq2lab(seq)\n",
    "        encoded_seq_onehot = lab2onehot(encoded_seq)\n",
    "        encoded_seqs[i,:,:] = encoded_seq_onehot\n",
    "    return encoded_seqs\n",
    "\n",
    "def calculate_prob_matrix(seqs, alphabet_dict):    \n",
    "    onehot_vect = onehot(seqs, alphabet_dict)\n",
    "    return (onehot_vect.sum(dim=0).T / onehot_vect.sum(dim=[0,2])).T"
   ]
  },
  {
   "cell_type": "code",
   "execution_count": 113,
   "id": "1e7eae9d",
   "metadata": {},
   "outputs": [],
   "source": [
    "class Autoencoder(nn.Module):\n",
    "    def __init__(self, num_channels):\n",
    "        super(Autoencoder, self).__init__()\n",
    "\n",
    "        # Encoder\n",
    "        self.encoder = nn.Sequential(\n",
    "            nn.Conv1d(num_channels, 32, kernel_size=3, stride=1, padding=1),\n",
    "            nn.ReLU(),\n",
    "            nn.Conv1d(32, 64, kernel_size=3, stride=1, padding=1),\n",
    "            nn.ReLU(),\n",
    "        )\n",
    "\n",
    "        # Decoder\n",
    "        self.decoder = nn.Sequential(\n",
    "            nn.ConvTranspose1d(64, 32, kernel_size=3, stride=1, padding=1, output_padding=0),\n",
    "            nn.ReLU(),\n",
    "            nn.ConvTranspose1d(32, num_channels, kernel_size=3, stride=1, padding=1, output_padding=0),\n",
    "            nn.Sigmoid()\n",
    "        )\n",
    "\n",
    "    def forward(self, x):\n",
    "        x = self.encoder(x)\n",
    "        x = self.decoder(x)\n",
    "        return x"
   ]
  },
  {
   "cell_type": "code",
   "execution_count": 114,
   "id": "c4d00d27",
   "metadata": {},
   "outputs": [],
   "source": [
    "df_aligned = pd.read_csv(\"C:/Users/khoah/PhD_Documents/SPLASH/compactor_classified_small_aligned.csv\")\n",
    "alphabet_dict = {\"p\": 0, \"-\": 1, \"A\": 2, \"C\": 3, \"G\": 4, \"T\": 5}"
   ]
  },
  {
   "cell_type": "code",
   "execution_count": 115,
   "id": "eeba8e28",
   "metadata": {},
   "outputs": [],
   "source": [
    "msas = df_aligned.groupby(\"anchor_index\").agg(list).aligned_compactor.to_list()\n",
    "msa_prob_encoded = [calculate_prob_matrix(msa, alphabet_dict) for msa in msas]\n",
    "padded_sequences = pad_sequence(msa_prob_encoded, batch_first=True, padding_value=0)\n",
    "input_seqs = torch.swapaxes(padded_sequences, 1,2)"
   ]
  },
  {
   "cell_type": "code",
   "execution_count": 116,
   "id": "b84c3c21",
   "metadata": {},
   "outputs": [
    {
     "name": "stdout",
     "output_type": "stream",
     "text": [
      "torch.Size([2207, 6, 126])\n",
      "Epoch [1/10], Loss: 0.2222\n",
      "torch.Size([2207, 6, 126])\n",
      "Epoch [2/10], Loss: 0.2172\n",
      "torch.Size([2207, 6, 126])\n",
      "Epoch [3/10], Loss: 0.2121\n",
      "torch.Size([2207, 6, 126])\n",
      "Epoch [4/10], Loss: 0.2072\n",
      "torch.Size([2207, 6, 126])\n",
      "Epoch [5/10], Loss: 0.2021\n",
      "torch.Size([2207, 6, 126])\n",
      "Epoch [6/10], Loss: 0.1968\n",
      "torch.Size([2207, 6, 126])\n",
      "Epoch [7/10], Loss: 0.1910\n",
      "torch.Size([2207, 6, 126])\n",
      "Epoch [8/10], Loss: 0.1845\n",
      "torch.Size([2207, 6, 126])\n",
      "Epoch [9/10], Loss: 0.1774\n",
      "torch.Size([2207, 6, 126])\n",
      "Epoch [10/10], Loss: 0.1695\n"
     ]
    }
   ],
   "source": [
    "# Instantiate the model\n",
    "model = Autoencoder(6)\n",
    "\n",
    "# Choose a loss function (e.g., Mean Squared Error) and an optimizer (e.g., Adam)\n",
    "criterion = nn.MSELoss()\n",
    "optimizer = optim.Adam(model.parameters(), lr=0.001)\n",
    "\n",
    "# Training loop\n",
    "num_epochs = 10\n",
    "for epoch in range(num_epochs):\n",
    "    # Forward pass\n",
    "    outputs = model(input_seqs)\n",
    "    print(outputs.shape)\n",
    "    loss = criterion(outputs, input_seqs)\n",
    "\n",
    "    # Backward pass and optimization\n",
    "    optimizer.zero_grad()\n",
    "    loss.backward()\n",
    "    optimizer.step()\n",
    "\n",
    "    # Print progress\n",
    "    print(f'Epoch [{epoch + 1}/{num_epochs}], Loss: {loss.item():.4f}')"
   ]
  },
  {
   "cell_type": "code",
   "execution_count": null,
   "id": "8c8337ab",
   "metadata": {},
   "outputs": [],
   "source": []
  },
  {
   "cell_type": "code",
   "execution_count": null,
   "id": "d4c49b80",
   "metadata": {},
   "outputs": [],
   "source": []
  }
 ],
 "metadata": {
  "kernelspec": {
   "display_name": "Python 3 (ipykernel)",
   "language": "python",
   "name": "python3"
  },
  "language_info": {
   "codemirror_mode": {
    "name": "ipython",
    "version": 3
   },
   "file_extension": ".py",
   "mimetype": "text/x-python",
   "name": "python",
   "nbconvert_exporter": "python",
   "pygments_lexer": "ipython3",
   "version": "3.11.5"
  }
 },
 "nbformat": 4,
 "nbformat_minor": 5
}
